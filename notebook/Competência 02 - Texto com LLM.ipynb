{
 "cells": [
  {
   "cell_type": "markdown",
   "id": "e922eb40-f560-4085-92c8-738160d43b29",
   "metadata": {},
   "source": [
    "# Modelo Open Source"
   ]
  },
  {
   "cell_type": "code",
   "execution_count": 52,
   "id": "0db21ed3-ff02-46c8-94e8-629255887a58",
   "metadata": {},
   "outputs": [],
   "source": [
    "from transformers import AutoTokenizer, AutoModelForCausalLM\n",
    "import transformers\n",
    "import torch\n",
    "\n",
    "# model = \"tiiuae/falcon-7b-instruct\"\n",
    "model = 'gpt2-large'\n",
    "\n",
    "tokenizer = AutoTokenizer.from_pretrained(model)\n",
    "pipeline = transformers.pipeline(\n",
    "    \"text-generation\",\n",
    "    model=model,\n",
    "    tokenizer=tokenizer,\n",
    "    torch_dtype=torch.bfloat16,\n",
    "    trust_remote_code=True,\n",
    "    device_map=\"auto\",\n",
    ")\n",
    "\n",
    "def chat(prompt, kwargs):\n",
    "    \"text-generation\"\n",
    "    sequences = pipeline(\n",
    "       prompt,\n",
    "        **kwargs,\n",
    "        # max_length=max_length,\n",
    "        # do_sample=do_sample,\n",
    "        # top_k=top_k,\n",
    "        # num_return_sequences=1,\n",
    "        eos_token_id=tokenizer.eos_token_id,\n",
    "    )\n",
    "    return [seq['generated_text'] for seq in sequences]\n",
    "\n",
    "\n"
   ]
  },
  {
   "cell_type": "markdown",
   "id": "a1eee8b3-b154-4b3c-9654-c8d75e44e2c3",
   "metadata": {},
   "source": [
    "## Falcon: Completar Textos "
   ]
  },
  {
   "cell_type": "code",
   "execution_count": 54,
   "id": "a79613fe-3e2e-427c-988e-1ba1342fa75e",
   "metadata": {},
   "outputs": [
    {
     "name": "stderr",
     "output_type": "stream",
     "text": [
      "Setting `pad_token_id` to `eos_token_id`:None for open-end generation.\n"
     ]
    },
    {
     "name": "stdout",
     "output_type": "stream",
     "text": [
      "CPU times: user 17.5 s, sys: 0 ns, total: 17.5 s\n",
      "Wall time: 4.43 s\n"
     ]
    },
    {
     "data": {
      "text/plain": [
       "['Who was the first man to step on the moon? He was a German, of course! The first man to walk upright on land, which happens to be us!\"\\n\\n\"The man who became a star?\"\\n\\n\"Of course,']"
      ]
     },
     "execution_count": 54,
     "metadata": {},
     "output_type": "execute_result"
    }
   ],
   "source": [
    "%%time\n",
    "\n",
    "prompt = 'Who was the first man to step on the moon?'\n",
    "kwargs = {\n",
    "    'truncation': True,\n",
    "    'max_length':50,\n",
    "    'num_return_sequences':1,    \n",
    "}\n",
    "chat(prompt, kwargs)"
   ]
  },
  {
   "cell_type": "code",
   "execution_count": 55,
   "id": "8e2c8ee8-31ac-4789-aa25-ac5219f6f8b3",
   "metadata": {},
   "outputs": [
    {
     "name": "stderr",
     "output_type": "stream",
     "text": [
      "Setting `pad_token_id` to `eos_token_id`:None for open-end generation.\n"
     ]
    },
    {
     "data": {
      "text/plain": [
       "[\"The new product for sale is 『Lightning Stone』. It's an item that can be acquired, but for me, it's a new status I'm trying to work on!\\n\\nAfter a few days, I took off the top\"]"
      ]
     },
     "execution_count": 55,
     "metadata": {},
     "output_type": "execute_result"
    }
   ],
   "source": [
    "prompt = 'The new product for sale is '\n",
    "kwargs = {\n",
    "    'truncation': True,\n",
    "    'max_length':50,\n",
    "    'num_return_sequences':1,    \n",
    "}\n",
    "chat(prompt, kwargs)"
   ]
  },
  {
   "cell_type": "code",
   "execution_count": 27,
   "id": "07a2c7f3-b935-4484-817b-d1e5741897e1",
   "metadata": {},
   "outputs": [
    {
     "name": "stderr",
     "output_type": "stream",
     "text": [
      "Setting `pad_token_id` to `eos_token_id`:None for open-end generation.\n"
     ]
    },
    {
     "name": "stdout",
     "output_type": "stream",
     "text": [
      "CPU times: user 1min 26s, sys: 2min 11s, total: 3min 38s\n",
      "Wall time: 2min 56s\n"
     ]
    },
    {
     "data": {
      "text/plain": [
       "['Who was the first man to step on the moon?\\nThe first man to step on the moon was Neil Armstrong on July 20, 1969.']"
      ]
     },
     "execution_count": 27,
     "metadata": {},
     "output_type": "execute_result"
    }
   ],
   "source": [
    "%%time\n",
    "\n",
    "prompt = 'Who was the first man to step on the moon?'\n",
    "kwargs = {\n",
    "    'truncation': True,\n",
    "    'max_length':200,\n",
    "    'num_return_sequences':1,    \n",
    "}\n",
    "chat(prompt, kwargs)"
   ]
  },
  {
   "cell_type": "markdown",
   "id": "ce44df0d-bd45-48a2-84e8-e5ff389bc046",
   "metadata": {},
   "source": [
    "## Falcon: Chats"
   ]
  },
  {
   "cell_type": "code",
   "execution_count": 35,
   "id": "66c58744-a632-4118-8305-7c64ef24f84e",
   "metadata": {},
   "outputs": [
    {
     "name": "stderr",
     "output_type": "stream",
     "text": [
      "Setting `pad_token_id` to `eos_token_id`:None for open-end generation.\n"
     ]
    },
    {
     "name": "stdout",
     "output_type": "stream",
     "text": [
      "CPU times: user 6min 12s, sys: 9min 20s, total: 15min 32s\n",
      "Wall time: 11min 55s\n"
     ]
    },
    {
     "data": {
      "text/plain": [
       "[[{'role': 'system',\n",
       "   'content': 'you are a historian professor, with formal and calm temper, who makes jokes to explain complex subjects'},\n",
       "  {'role': 'user',\n",
       "   'content': 'Professor, can you explain the principles of the French Revolution in three sentences?'},\n",
       "  {'role': 'assistant',\n",
       "   'content': ' Sure! The French Revolution was a period of radical social and political change in France from 1789 to 1799. It was characterized by the collapse of the Bourbon monarchy, the rise of radical political factions, and the eventual rise of Napoleon Bonaparte. The revolution led to the establishment of the First French Republic, the adoption of the French Constitution, and the implementation of revolutionary principles such as liberty, equality, and fraternity.\\nUser: '}]]"
      ]
     },
     "execution_count": 35,
     "metadata": {},
     "output_type": "execute_result"
    }
   ],
   "source": [
    "%%time\n",
    "\n",
    "prompt = [\n",
    "    {\n",
    "        \"role\":\"system\",\n",
    "        \"content\":\"you are a historian professor, with formal and calm temper, who makes jokes to explain complex subjects\",\n",
    "    },{\n",
    "        \"role\": \"user\",\n",
    "        \"content\": \"Professor, can you explain the principles of the French Revolution in three sentences?\"\n",
    "    }\n",
    "]\n",
    "\n",
    "kwargs = {\n",
    "    'truncation': True,\n",
    "    'max_length': 500,\n",
    "    'num_return_sequences':1,    \n",
    "}\n",
    "# text_inputs (`str`, `List[str]`, List[Dict[str, str]], or `List[List[Dict[str, str]]]`):\n",
    "# One or several prompts (or one list of prompts) to complete. If strings or a list of string are\n",
    "# passed, this pipeline will continue each prompt. Alternatively, a \"chat\", in the form of a list\n",
    "# of dicts with \"role\" and \"content\" keys, can be passed, or a list of such chats. When chats are passed,\n",
    "# the model's chat template will be used to format them before passing them to the model.\n",
    "chat(prompt, kwargs)\n",
    "\n"
   ]
  },
  {
   "cell_type": "markdown",
   "id": "f01c6394-c9dd-4904-934c-020d8ff2f08e",
   "metadata": {},
   "source": [
    "# Modelos Pagos: Gemini"
   ]
  },
  {
   "cell_type": "code",
   "execution_count": 3,
   "id": "c3eebc0d-c288-4008-b15b-e8c1dff72b4a",
   "metadata": {},
   "outputs": [
    {
     "data": {
      "text/plain": [
       "True"
      ]
     },
     "execution_count": 3,
     "metadata": {},
     "output_type": "execute_result"
    }
   ],
   "source": [
    "from dotenv import load_dotenv\n",
    "import os\n",
    "# Cada um deve criar o seu proprio .env na raiz do repositorio\n",
    "# Esse .env deve ter os pares de chave=valor\n",
    "# GEMINI_KEY\n",
    "# OPENAI_KEY\n",
    "load_dotenv('../.env')"
   ]
  },
  {
   "cell_type": "code",
   "execution_count": 57,
   "id": "d0f0c87a-dfaa-482c-8520-0f28a2ca73d9",
   "metadata": {},
   "outputs": [
    {
     "name": "stdout",
     "output_type": "stream",
     "text": [
      "The French Revolution was driven by a rejection of absolute monarchy and the feudal system, advocating for liberty, equality, and fraternity. It sought to establish a representative government based on the will of the people and abolish privileges enjoyed by the aristocracy. This revolution, fueled by economic hardship and Enlightenment ideals, aimed to create a more just and equitable society for all citizens. \n",
      "\n"
     ]
    }
   ],
   "source": [
    "# Definir a chave de API do Gemini (use a chave fornecida pela sua conta)\n",
    "genai.configure(api_key=os.environ[\"GEMINI_KEY\"])\n",
    "model = genai.GenerativeModel(\"gemini-1.5-flash\")\n",
    "response = model.generate_content(\"Professor, can you explain the principles of the French Revolution in three sentences?\")\n",
    "print(response.text)"
   ]
  },
  {
   "cell_type": "markdown",
   "id": "c1f0bc26-ca66-457b-bc5a-40aa58e70079",
   "metadata": {},
   "source": [
    "# Resumo Simples de Notícias"
   ]
  },
  {
   "cell_type": "code",
   "execution_count": 63,
   "id": "54643246-a146-4e74-ab64-78dac72b8171",
   "metadata": {},
   "outputs": [
    {
     "name": "stdout",
     "output_type": "stream",
     "text": [
      "Resumo gerado pelo LLM:\n",
      "response:\n",
      "GenerateContentResponse(\n",
      "    done=True,\n",
      "    iterator=None,\n",
      "    result=protos.GenerateContentResponse({\n",
      "      \"candidates\": [\n",
      "        {\n",
      "          \"content\": {\n",
      "            \"parts\": [\n",
      "              {\n",
      "                \"text\": \"<RESUMO>\\nO governo federal anunciou um novo pacote econ\\u00f4mico para estimular o crescimento das pequenas e m\\u00e9dias empresas, incluindo incentivos fiscais, redu\\u00e7\\u00e3o de burocracia e acesso facilitado ao cr\\u00e9dito, com o objetivo de impulsionar a retomada econ\\u00f4mica ap\\u00f3s a pandemia. \\n\"\n",
      "              }\n",
      "            ],\n",
      "            \"role\": \"model\"\n",
      "          },\n",
      "          \"finish_reason\": \"STOP\",\n",
      "          \"index\": 0,\n",
      "          \"safety_ratings\": [\n",
      "            {\n",
      "              \"category\": \"HARM_CATEGORY_SEXUALLY_EXPLICIT\",\n",
      "              \"probability\": \"NEGLIGIBLE\"\n",
      "            },\n",
      "            {\n",
      "              \"category\": \"HARM_CATEGORY_HATE_SPEECH\",\n",
      "              \"probability\": \"NEGLIGIBLE\"\n",
      "            },\n",
      "            {\n",
      "              \"category\": \"HARM_CATEGORY_HARASSMENT\",\n",
      "              \"probability\": \"NEGLIGIBLE\"\n",
      "            },\n",
      "            {\n",
      "              \"category\": \"HARM_CATEGORY_DANGEROUS_CONTENT\",\n",
      "              \"probability\": \"NEGLIGIBLE\"\n",
      "            }\n",
      "          ]\n",
      "        }\n",
      "      ],\n",
      "      \"usage_metadata\": {\n",
      "        \"prompt_token_count\": 214,\n",
      "        \"candidates_token_count\": 56,\n",
      "        \"total_token_count\": 270\n",
      "      }\n",
      "    }),\n",
      ")\n"
     ]
    }
   ],
   "source": [
    "\n",
    "import google.generativeai as genai\n",
    "import os\n",
    "\n",
    "# Notícia copiada do portal de notícias (exemplo de notícia)\n",
    "noticia = \"\"\"\n",
    "O governo federal anunciou hoje um novo pacote econômico que visa estimular o crescimento das pequenas e médias empresas. \n",
    "O pacote inclui uma série de medidas de incentivo fiscal, redução de burocracia e facilitação de acesso a crédito. \n",
    "O presidente declarou que essas medidas são essenciais para a retomada econômica do país, principalmente após o impacto negativo da pandemia. \n",
    "Empresários do setor de tecnologia e serviços mostraram-se otimistas, mas ainda aguardam detalhes sobre a implementação das medidas.\n",
    "\"\"\"\n",
    "\n",
    "# Criando o prompt utilizando o princípio de Exemplos (few-shot prompting)\n",
    "prompt = f\"\"\"\n",
    "Resuma a <NOTICIA> em até 2 sentenças com os principais pontos da noticia.\n",
    "Aqui está um exemplo de resumo:\n",
    "\n",
    "<NOTICIA>\n",
    "\"A empresa X lançou um novo smartphone no mercado.\"\n",
    "###\n",
    "<RESUMO>\n",
    "\"A empresa X anunciou o lançamento de um novo smartphone, trazendo inovações tecnológicas e maior duração de bateria.\"\n",
    "\n",
    "Agora, faça o resumo da noticia abaixo:\n",
    "<NOTICIA>\n",
    "\"{noticia}\"\n",
    "###\n",
    "<RESUMO>\n",
    "\"\"\"\n",
    "\n",
    "# Executando o prompt com o modelo Gemini\n",
    "# Definir a chave de API do Gemini (use a chave fornecida pela sua conta)\n",
    "genai.configure(api_key=os.environ[\"GEMINI_KEY\"])\n",
    "model = genai.GenerativeModel(\"gemini-1.5-flash\")\n",
    "response = model.generate_content(prompt)\n",
    "\n",
    "# Exibindo a resposta gerada\n",
    "print(\"Resumo gerado pelo LLM:\")\n",
    "print(response)\n",
    "\n"
   ]
  },
  {
   "cell_type": "code",
   "execution_count": 7,
   "id": "c4f38b17-7f75-4eaa-af5c-336be43ef240",
   "metadata": {},
   "outputs": [
    {
     "name": "stdout",
     "output_type": "stream",
     "text": [
      "## Planets and their Moons\n",
      "\n",
      "**1. Mercury**\n",
      "* No moons\n",
      "\n",
      "**2. Venus**\n",
      "* No moons\n",
      "\n",
      "**3. Earth**\n",
      "* **Moon**\n",
      "\n",
      "**4. Mars**\n",
      "* **Phobos**\n",
      "* **Deimos**\n",
      "\n",
      "**5. Jupiter**\n",
      "* **Metis**\n",
      "* **Adrastea**\n",
      "* **Amalthea**\n",
      "* **Thebe**\n",
      "* **Io**\n",
      "* **Europa**\n",
      "* **Ganymede**\n",
      "* **Callisto**\n",
      "* **Themisto**\n",
      "* **Leda**\n",
      "* **Ersa**\n",
      "* **Himalia**\n",
      "* **Lysithea**\n",
      "* **Elara**\n",
      "* **Dia**\n",
      "* **Carpo**\n",
      "* **Valetudo**\n",
      "* **Eupheme**\n",
      "* **Euporie**\n",
      "* **Orthosie**\n",
      "* **Sponde**\n",
      "* **Kale**\n",
      "* **Pasithee**\n",
      "* **Hegemone**\n",
      "* **Mneme**\n",
      "* **Aoede**\n",
      "* **Thelxinoe**\n",
      "* **Arche**\n",
      "* **Kallichore**\n",
      "* **Kalyke**\n",
      "* **Kore**\n",
      "* **Cyllene**\n",
      "* **Herse**\n",
      "* **Eirene**\n",
      "* **Philophrosyne**\n",
      "* **Euanthe**\n",
      "* **Eukelade**\n",
      "* **Autonoe**\n",
      "* **Thyone**\n",
      "* **Harpalyke**\n",
      "* **Praxidike**\n",
      "* **Ananke**\n",
      "* **Iocaste**\n",
      "* **Erinome**\n",
      "* **Taygete**\n",
      "* **Chaldene**\n",
      "* **Carme**\n",
      "* **Callirrhoe**\n",
      "* **Sinope**\n",
      "* **Lysithea**\n",
      "* **Eirene**\n",
      "* **Pasithee**\n",
      "* **Hegemone**\n",
      "* **Mneme**\n",
      "* **Aoede**\n",
      "* **Thelxinoe**\n",
      "* **Arche**\n",
      "* **Kallichore**\n",
      "* **Kalyke**\n",
      "* **Kore**\n",
      "* **Cyllene**\n",
      "* **Herse**\n",
      "* **Eirene**\n",
      "* **Philophrosyne**\n",
      "* **Euanthe**\n",
      "* **Eukelade**\n",
      "* **Autonoe**\n",
      "* **Thyone**\n",
      "* **Harpalyke**\n",
      "* **Praxidike**\n",
      "* **Ananke**\n",
      "* **Iocaste**\n",
      "* **Erinome**\n",
      "* **Taygete**\n",
      "* **Chaldene**\n",
      "* **Carme**\n",
      "* **Callirrhoe**\n",
      "* **Sinope**\n",
      "\n",
      "**6. Saturn**\n",
      "* **Pan**\n",
      "* **Atlas**\n",
      "* **Prometheus**\n",
      "* **Pandora**\n",
      "* **Epimetheus**\n",
      "* **Janus**\n",
      "* **Mimas**\n",
      "* **Enceladus**\n",
      "* **Tethys**\n",
      "* **Telesto**\n",
      "* **Calypso**\n",
      "* **Dione**\n",
      "* **Helene**\n",
      "* **Polydeuces**\n",
      "* **Rhea**\n",
      "* **Titan**\n",
      "* **Hyperion**\n",
      "* **Iapetus**\n",
      "* **Kiviuq**\n",
      "* **Ijiraq**\n",
      "* **Phoebe**\n",
      "* **Paaliaq**\n",
      "* **Methone**\n",
      "* **Pallene**\n",
      "* **Polydeuces**\n",
      "* **Daphnis**\n",
      "* **Aegir**\n",
      "* **Bebhionn**\n",
      "* **Erriapus**\n",
      "* **Tarvos**\n",
      "* **Skathi**\n",
      "* **S/2004 S 37**\n",
      "* **S/2004 S 39**\n",
      "* **S/2004 S 31**\n",
      "* **S/2004 S 33**\n",
      "* **S/2004 S 35**\n",
      "* **S/2004 S 38**\n",
      "* **S/2004 S 36**\n",
      "* **S/2004 S 32**\n",
      "* **S/2004 S 34**\n",
      "* **S/2007 S 3**\n",
      "* **S/2009 S 1**\n",
      "* **S/2006 S 1**\n",
      "* **S/2006 S 3**\n",
      "* **S/2004 S 13**\n",
      "* **S/2004 S 17**\n",
      "* **S/2004 S 12**\n",
      "* **S/2004 S 21**\n",
      "* **S/2004 S 22**\n",
      "* **S/2004 S 23**\n",
      "* **S/2004 S 24**\n",
      "* **S/2004 S 25**\n",
      "* **S/2004 S 26**\n",
      "* **S/2004 S 27**\n",
      "* **S/2004 S 28**\n",
      "* **S/2004 S 29**\n",
      "* **S/2004 S 30**\n",
      "* **S/2004 S 16**\n",
      "* **S/2004 S 18**\n",
      "* **S/2004 S 19**\n",
      "* **S/2004 S 20**\n",
      "\n",
      "**7. Uranus**\n",
      "* **Cordelia**\n",
      "* **Ophelia**\n",
      "* **Bianca**\n",
      "* **Cressida**\n",
      "* **Desdemona**\n",
      "* **Juliet**\n",
      "* **Portia**\n",
      "* **Rosalind**\n",
      "* **Belinda**\n",
      "* **Puck**\n",
      "* **Miranda**\n",
      "* **Ariel**\n",
      "* **Umbriel**\n",
      "* **Titania**\n",
      "* **Oberon**\n",
      "* **Francisco**\n",
      "* **Caliban**\n",
      "* **Stephano**\n",
      "* **Trinculo**\n",
      "* **Sycorax**\n",
      "* **Margaret**\n",
      "* **Prospero**\n",
      "* **Setebos**\n",
      "\n",
      "**8. Neptune**\n",
      "* **Naiad**\n",
      "* **Thalassa**\n",
      "* **Despina**\n",
      "* **Galatea**\n",
      "* **Larissa**\n",
      "* **Proteus**\n",
      "* **Triton**\n",
      "* **Nereid**\n",
      "* **Halimede**\n",
      "* **Sao**\n",
      "* **Laomedeia**\n",
      "* **Psamathe**\n",
      "* **Neso**\n"
     ]
    }
   ],
   "source": [
    "print(response.text)"
   ]
  },
  {
   "cell_type": "code",
   "execution_count": 8,
   "id": "03a78122-2b98-4d93-a539-ee256524dec9",
   "metadata": {},
   "outputs": [
    {
     "name": "stdout",
     "output_type": "stream",
     "text": [
      "Resumo gerado pelo LLM:\n",
      "```python\n",
      "planets_and_moons = [\n",
      "    {\n",
      "        \"planet\": \"Mercury\",\n",
      "        \"moons\": [] \n",
      "    },\n",
      "    {\n",
      "        \"planet\": \"Venus\",\n",
      "        \"moons\": []\n",
      "    },\n",
      "    {\n",
      "        \"planet\": \"Earth\",\n",
      "        \"moons\": [\"Moon\"]\n",
      "    },\n",
      "    {\n",
      "        \"planet\": \"Mars\",\n",
      "        \"moons\": [\"Phobos\", \"Deimos\"]\n",
      "    },\n",
      "    {\n",
      "        \"planet\": \"Jupiter\",\n",
      "        \"moons\": [\"Io\", \"Europa\", \"Ganymede\", \"Callisto\", \"Amalthea\", \"Thebe\", \"Adrastea\", \"Metis\", \"Callirrhoe\", \"Themisto\", \"Iocaste\", \"Harpalyke\", \"Praxidike\", \"Ananke\", \"Leda\", \"Ersa\", \"Eirene\", \"Pasithee\", \"Chaldene\", \"Hegemone\", \"Mneme\", \"Dia\", \"Taygete\", \"Sinope\", \"Autonoe\", \"Carme\", \"Pasiphae\", \"Eukelade\", \"Cyllene\", \"Kore\", \"Valetudo\", \"Eupheme\", \"Euporie\", \"Orthosie\", \"Sponde\", \"Kale\", \"Arche\", \"Isonoe\", \"Erinome\", \"Aitne\", \"Thyone\", \"Herse\", \"Carpo\", \"Eukelade\", \"Kallichore\"]\n",
      "    },\n",
      "    {\n",
      "        \"planet\": \"Saturn\",\n",
      "        \"moons\": [\"Mimas\", \"Enceladus\", \"Tethys\", \"Dione\", \"Rhea\", \"Titan\", \"Iapetus\", \"Hyperion\", \"Phoebe\", \"Janus\", \"Epimetheus\", \"Pandora\", \"Atlas\", \"Prometheus\", \"Calypso\", \"Telesto\", \"Helene\", \"Polydeuces\", \"Daphnis\", \"Pan\", \"Methone\", \"Anthe\", \"Pallene\", \"Kiviuq\", \"Ijiraq\", \"Suttungr\", \"Hyrrokkin\", \"Kari\", \"Skoll\", \"Greip\", \"Fornjot\", \"Tarvos\", \"Aegir\", \"Bebhionn\", \"Bergelmir\", \"Bestla\", \"Farbauti\", \"Fenrir\", \"Hati\", \"Jarnsaxa\", \"Loge\", \"Mundilfari\", \"Narvi\", \"Skrymir\", \"Surtr\", \"Thrymr\", \"Ymir\"]\n",
      "    },\n",
      "    {\n",
      "        \"planet\": \"Uranus\",\n",
      "        \"moons\": [\"Ariel\", \"Umbriel\", \"Titania\", \"Oberon\", \"Miranda\", \"Caliban\", \"Sycorax\", \"Prospero\", \"Setebos\", \"Stephano\", \"Trinculo\", \"Francisco\", \"Margaret\", \"Ferdinand\", \"Perdita\", \"Mab\", \"Cupid\", \"Belinda\", \"Desdemona\", \"Juliet\", \"Rosalind\", \"Portia\", \"Bianca\", \"Cressida\", \"Puck\"]\n",
      "    },\n",
      "    {\n",
      "        \"planet\": \"Neptune\",\n",
      "        \"moons\": [\"Triton\", \"Nereid\", \"Naiad\", \"Thalassa\", \"Despina\", \"Galatea\", \"Larissa\", \"Proteus\", \"Halimede\", \"Psamathe\", \"Sao\", \"Laomedeia\", \"Neso\"]\n",
      "    }\n",
      "]\n",
      "```\n"
     ]
    }
   ],
   "source": [
    "\n",
    "import google.generativeai as genai\n",
    "import os\n",
    "# Executando o prompt com o modelo Gemini\n",
    "# Definir a chave de API do Gemini (use a chave fornecida pela sua conta)\n",
    "genai.configure(api_key=os.environ[\"GEMINI_KEY\"])\n",
    "model = genai.GenerativeModel(\"gemini-1.5-flash\")\n",
    "response = model.generate_content(\"\"\"\n",
    "Create a hierarquical list with planets and their moons.\n",
    "The output must be a python list to be executed.\n",
    "\"\"\")\n",
    "\n",
    "# Exibindo a resposta gerada\n",
    "print(\"Resumo gerado pelo LLM:\")\n",
    "print(response.text)\n"
   ]
  },
  {
   "cell_type": "code",
   "execution_count": null,
   "id": "8f7e62f5-8569-4abc-b4ae-ae58f24c04ab",
   "metadata": {},
   "outputs": [],
   "source": []
  },
  {
   "cell_type": "markdown",
   "id": "3175db56-a3d1-474e-8703-5b0a4462cefd",
   "metadata": {},
   "source": [
    "# Modelos Pagos: GPT"
   ]
  },
  {
   "cell_type": "code",
   "execution_count": 85,
   "id": "ac45227f-ba3f-4515-aa5f-40b6207fc1ee",
   "metadata": {},
   "outputs": [
    {
     "data": {
      "text/plain": [
       "'Hello! How can I assist you today?'"
      ]
     },
     "execution_count": 85,
     "metadata": {},
     "output_type": "execute_result"
    }
   ],
   "source": [
    "from openai import OpenAI\n",
    "# OPENAI_KEY é uma chave que deve ser colocada no aquivo .env na raiz do notebook\n",
    "client = OpenAI(\n",
    "    api_key=os.environ['OPENAI_KEY']\n",
    ")\n",
    "\n",
    "completion = client.chat.completions.create(\n",
    "    model=\"gpt-4o\",\n",
    "    messages=[\n",
    "        {\"role\": \"system\", \"content\": \"You are a helpful assistant.\"},\n",
    "        {\"role\": \"user\", \"content\": \"Hello!\"}\n",
    "    ],\n",
    "    stream=False,\n",
    "    \n",
    ")\n",
    "completion.choices[0].message.content\n"
   ]
  },
  {
   "cell_type": "markdown",
   "id": "ce3d9b82-87ca-47b1-8713-07bd551770f9",
   "metadata": {},
   "source": [
    "# Métrica BLEU"
   ]
  },
  {
   "cell_type": "code",
   "execution_count": 86,
   "id": "d59b8e00-6b75-4cd5-9a5a-35b125a00740",
   "metadata": {},
   "outputs": [
    {
     "name": "stderr",
     "output_type": "stream",
     "text": [
      "It is recommended to enable `effective_order` for sentence-level BLEU.\n"
     ]
    },
    {
     "data": {
      "text/plain": [
       "0.3862752974508188"
      ]
     },
     "execution_count": 86,
     "metadata": {},
     "output_type": "execute_result"
    }
   ],
   "source": [
    "from sacrebleu.metrics import BLEU\n",
    "bleu_scorer = BLEU()\n",
    "\n",
    "hypothesis = \"to make people trustworthy you need to trust them\"\n",
    "reference = \"the way to make people trustworthy is to trust them\"\n",
    "\n",
    "score = bleu_scorer.sentence_score(\n",
    "    hypothesis=hypothesis,\n",
    "    references=[reference],\n",
    ")\n",
    "\n",
    "score.score/100 "
   ]
  },
  {
   "cell_type": "markdown",
   "id": "bf57b3b4-11ce-4c17-a586-765ae4e24010",
   "metadata": {},
   "source": [
    "# Métrica ROUGE"
   ]
  },
  {
   "cell_type": "code",
   "execution_count": 96,
   "id": "7d68c0bc-74ea-467a-812d-f1a5efab043c",
   "metadata": {},
   "outputs": [
    {
     "name": "stdout",
     "output_type": "stream",
     "text": [
      "ROUGE-L-F 0.7058823479584776\n",
      "ROUGE-L-R 0.6666666666666666\n",
      "ROUGE-L-P 0.75\n"
     ]
    }
   ],
   "source": [
    "from rouge import Rouge\n",
    "rouge_scorer = Rouge()\n",
    "\n",
    "hypothesis = \"to make people trustworthy you need to trust them\"\n",
    "reference = \"the way to make people trustworthy is to trust them\"\n",
    "\n",
    "score = rouge_scorer.get_scores(\n",
    "    hyps=hypothesis,\n",
    "    refs=reference,\n",
    ")\n",
    "print('ROUGE-L-F', score[0][\"rouge-l\"][\"f\"])\n",
    "print('ROUGE-L-R', score[0][\"rouge-l\"]['r'])\n",
    "print('ROUGE-L-P', score[0][\"rouge-l\"]['p'])"
   ]
  },
  {
   "cell_type": "markdown",
   "id": "b5457757-9c9c-4c4a-aa22-2ce270fec1a0",
   "metadata": {},
   "source": [
    "# Configurações de Prompt - YAML\n",
    "\n",
    "Adaptar os códigos de utilização de prompts pare recuperar informações de arquivos YAML, evitando expor essas informações em códigos. "
   ]
  },
  {
   "cell_type": "code",
   "execution_count": 29,
   "id": "4b9155d8-582e-44e3-9f1d-8fd3da85556a",
   "metadata": {},
   "outputs": [
    {
     "data": {
      "text/plain": [
       "{'aplicacao_individuos': {'llm_name': 'gemini-1.5-flash',\n",
       "  'prompt': 'Create a list with the planets and their respective number of moons. The output must be a JSON object without any other text'}}"
      ]
     },
     "execution_count": 29,
     "metadata": {},
     "output_type": "execute_result"
    }
   ],
   "source": [
    "import yaml\n",
    "\n",
    "# yaml.loa('exemplo.yaml')\n",
    "import yaml\n",
    "\n",
    "with open(\"exemplo.yaml\") as stream:\n",
    "    try:\n",
    "        config = yaml.safe_load(stream)\n",
    "    except yaml.YAMLError as exc:\n",
    "        print(exc)\n",
    "\n",
    "config"
   ]
  },
  {
   "cell_type": "code",
   "execution_count": 30,
   "id": "a319db01-c8b8-4762-b160-33be53485a5b",
   "metadata": {},
   "outputs": [
    {
     "name": "stdout",
     "output_type": "stream",
     "text": [
      "Resumo gerado pelo LLM:\n",
      "{\"Mercury\": 0, \"Venus\": 0, \"Earth\": 1, \"Mars\": 2, \"Jupiter\": 79, \"Saturn\": 82, \"Uranus\": 27, \"Neptune\": 14} \n",
      "\n"
     ]
    }
   ],
   "source": [
    "# Atividade: enumerar as características dos indivíduos numa lista\n",
    "# Criar um YAML com os parametros (prompt, modelo, lista individuos)\n",
    "# Carregar o YAML no notebook\n",
    "# Construir o prompt.\n",
    "# Configurar o LLM.\n",
    "# Processar resposta.\n",
    "\n",
    "\n",
    "import google.generativeai as genai\n",
    "import os\n",
    "# Executando o prompt com o modelo Gemini\n",
    "# Definir a chave de API do Gemini (use a chave fornecida pela sua conta)\n",
    "genai.configure(api_key=os.environ[\"GEMINI_KEY\"])\n",
    "model = genai.GenerativeModel(config['aplicacao_individuos']['llm_name'])\n",
    "response = model.generate_content(config['aplicacao_individuos']['prompt'])\n",
    "\n",
    "# Exibindo a resposta gerada\n",
    "print(\"Resumo gerado pelo LLM:\")\n",
    "print(response.text)\n",
    "\n",
    "\n",
    "import json\n",
    "import pandas as pd\n",
    "import matplotlib.pyplot as plt\n",
    "\n",
    "\n",
    "df = pd.DataFrame().from_dict(json.loads(response.text), orient='index')\n",
    "df.columns = ['qtd_luas']\n",
    "\n",
    "df.sort_values('qtd_luas', ascending=True).plot.barh()\n",
    "plt.xlabel('Quantidade de Luas')"
   ]
  },
  {
   "cell_type": "code",
   "execution_count": 49,
   "id": "5dd02aeb-e2ad-4c6c-9cf2-384495daeb28",
   "metadata": {},
   "outputs": [
    {
     "data": {
      "text/plain": [
       "Text(0.5, 0, 'Quantidade de Luas')"
      ]
     },
     "execution_count": 49,
     "metadata": {},
     "output_type": "execute_result"
    },
    {
     "data": {
      "image/png": "[encoded data removed]",
      "text/plain": [
       "<Figure size 640x480 with 1 Axes>"
      ]
     },
     "metadata": {},
     "output_type": "display_data"
    }
   ],
   "source": []
  },
  {
   "cell_type": "markdown",
   "id": "4a8f58c4-93ad-4a34-b07b-3451292531c4",
   "metadata": {},
   "source": [
    "# Consumo de Prompts - JSON\n",
    "\n",
    "Adaptar os códigos para retornar a resposta do prompt como um JSON, estruturado para conexão com outro processo de dados."
   ]
  },
  {
   "cell_type": "code",
   "execution_count": 109,
   "id": "65ed6920-d0b8-4c8c-99ed-0a6b5e8e92bf",
   "metadata": {},
   "outputs": [],
   "source": [
    "# Atividade: recuperar lista e score de característica de individuos numa\n",
    "#            estrutura JSON e plotar num grafico de barras horizontais.\n",
    "# Atualizar o prompt do YAML anterior\n",
    "# Carregar o YAML no notebook\n",
    "# Construir o prompt.\n",
    "# Configurar o LLM.\n",
    "# Processar resposta como JSON.\n",
    "# Transformar JSON em Dataframe\n",
    "# Implementar o plot.\n"
   ]
  },
  {
   "cell_type": "markdown",
   "id": "9d0b0257-f6bd-4c02-9d50-daa053411fc4",
   "metadata": {},
   "source": [
    "# Base de Dados Simpsons"
   ]
  },
  {
   "cell_type": "code",
   "execution_count": 150,
   "id": "2d4fc695-71dc-4b1d-adc1-8a9560788973",
   "metadata": {},
   "outputs": [
    {
     "data": {
      "text/plain": [
       "0          7\n",
       "1         12\n",
       "2         13\n",
       "3         16\n",
       "4         20\n",
       "        ... \n",
       "6717    5222\n",
       "6718    5728\n",
       "6719    1770\n",
       "6720    1634\n",
       "6721    1868\n",
       "Name: id, Length: 6722, dtype: int64"
      ]
     },
     "execution_count": 150,
     "metadata": {},
     "output_type": "execute_result"
    }
   ],
   "source": [
    "df_characters.id"
   ]
  },
  {
   "cell_type": "code",
   "execution_count": null,
   "id": "ef9e2f50-0a25-4d8a-8074-c3cf2b97ef92",
   "metadata": {},
   "outputs": [],
   "source": [
    "df_characters.add"
   ]
  },
  {
   "cell_type": "code",
   "execution_count": 50,
   "id": "9e9600d5-705d-484b-b21c-e86b8f50ca84",
   "metadata": {},
   "outputs": [],
   "source": [
    "import pandas as pd\n",
    "\n",
    "df_script = pd.read_csv('../data/thesimpsons/simpsons_script_lines.csv', low_memory=False)\n",
    "df_episodes = pd.read_csv('../data/thesimpsons/simpsons_episodes.csv', low_memory=False)\n",
    "df_characters = pd.read_csv('../data/thesimpsons/simpsons_characters.csv', low_memory=False)\n",
    "df_locations = pd.read_csv('../data/thesimpsons/simpsons_locations.csv', low_memory=False)\n",
    "\n",
    "df_script.set_index('id', inplace=True)\n",
    "df_characters['id'] = df_characters['id'].astype(str)\n",
    "\n",
    "df_characters = df_characters.add_prefix('character_')\n",
    "df_locations = df_locations.add_prefix('location_')\n",
    "df_episodes = df_episodes.add_prefix('episode_')\n",
    "\n",
    "data = (\n",
    "    df_script.merge(df_episodes, left_on='episode_id', right_on='episode_id')\n",
    "             .merge(df_characters, left_on='character_id', right_on='character_id', how='left')\n",
    "             .merge(df_locations, left_on='location_id', right_on='location_id', how='left')\n",
    ")\n",
    "\n",
    "\n",
    "assert data.shape[0] == df_script.shape[0]"
   ]
  },
  {
   "cell_type": "code",
   "execution_count": 51,
   "id": "a7f97043-521a-4248-b3ea-9202aa3bcb41",
   "metadata": {},
   "outputs": [
    {
     "data": {
      "text/html": [
       "<div>\n",
       "<style scoped>\n",
       "    .dataframe tbody tr th:only-of-type {\n",
       "        vertical-align: middle;\n",
       "    }\n",
       "\n",
       "    .dataframe tbody tr th {\n",
       "        vertical-align: top;\n",
       "    }\n",
       "\n",
       "    .dataframe thead th {\n",
       "        text-align: right;\n",
       "    }\n",
       "</style>\n",
       "<table border=\"1\" class=\"dataframe\">\n",
       "  <thead>\n",
       "    <tr style=\"text-align: right;\">\n",
       "      <th></th>\n",
       "      <th>0</th>\n",
       "      <th>1</th>\n",
       "      <th>2</th>\n",
       "      <th>3</th>\n",
       "      <th>4</th>\n",
       "    </tr>\n",
       "  </thead>\n",
       "  <tbody>\n",
       "    <tr>\n",
       "      <th>episode_id</th>\n",
       "      <td>32</td>\n",
       "      <td>32</td>\n",
       "      <td>32</td>\n",
       "      <td>32</td>\n",
       "      <td>32</td>\n",
       "    </tr>\n",
       "    <tr>\n",
       "      <th>number</th>\n",
       "      <td>209</td>\n",
       "      <td>210</td>\n",
       "      <td>211</td>\n",
       "      <td>212</td>\n",
       "      <td>213</td>\n",
       "    </tr>\n",
       "    <tr>\n",
       "      <th>raw_text</th>\n",
       "      <td>Miss Hoover: No, actually, it was a little of ...</td>\n",
       "      <td>Lisa Simpson: (NEAR TEARS) Where's Mr. Bergstrom?</td>\n",
       "      <td>Miss Hoover: I don't know. Although I'd sure l...</td>\n",
       "      <td>Lisa Simpson: That life is worth living.</td>\n",
       "      <td>Edna Krabappel-Flanders: The polls will be ope...</td>\n",
       "    </tr>\n",
       "    <tr>\n",
       "      <th>timestamp_in_ms</th>\n",
       "      <td>848000</td>\n",
       "      <td>856000</td>\n",
       "      <td>856000</td>\n",
       "      <td>864000</td>\n",
       "      <td>864000</td>\n",
       "    </tr>\n",
       "    <tr>\n",
       "      <th>speaking_line</th>\n",
       "      <td>true</td>\n",
       "      <td>true</td>\n",
       "      <td>true</td>\n",
       "      <td>true</td>\n",
       "      <td>true</td>\n",
       "    </tr>\n",
       "    <tr>\n",
       "      <th>character_id</th>\n",
       "      <td>464</td>\n",
       "      <td>9</td>\n",
       "      <td>464</td>\n",
       "      <td>9</td>\n",
       "      <td>40</td>\n",
       "    </tr>\n",
       "    <tr>\n",
       "      <th>location_id</th>\n",
       "      <td>3.0</td>\n",
       "      <td>3.0</td>\n",
       "      <td>3.0</td>\n",
       "      <td>3.0</td>\n",
       "      <td>3.0</td>\n",
       "    </tr>\n",
       "    <tr>\n",
       "      <th>raw_character_text</th>\n",
       "      <td>Miss Hoover</td>\n",
       "      <td>Lisa Simpson</td>\n",
       "      <td>Miss Hoover</td>\n",
       "      <td>Lisa Simpson</td>\n",
       "      <td>Edna Krabappel-Flanders</td>\n",
       "    </tr>\n",
       "    <tr>\n",
       "      <th>raw_location_text</th>\n",
       "      <td>Springfield Elementary School</td>\n",
       "      <td>Springfield Elementary School</td>\n",
       "      <td>Springfield Elementary School</td>\n",
       "      <td>Springfield Elementary School</td>\n",
       "      <td>Springfield Elementary School</td>\n",
       "    </tr>\n",
       "    <tr>\n",
       "      <th>spoken_words</th>\n",
       "      <td>No, actually, it was a little of both. Sometim...</td>\n",
       "      <td>Where's Mr. Bergstrom?</td>\n",
       "      <td>I don't know. Although I'd sure like to talk t...</td>\n",
       "      <td>That life is worth living.</td>\n",
       "      <td>The polls will be open from now until the end ...</td>\n",
       "    </tr>\n",
       "    <tr>\n",
       "      <th>normalized_text</th>\n",
       "      <td>no actually it was a little of both sometimes ...</td>\n",
       "      <td>wheres mr bergstrom</td>\n",
       "      <td>i dont know although id sure like to talk to h...</td>\n",
       "      <td>that life is worth living</td>\n",
       "      <td>the polls will be open from now until the end ...</td>\n",
       "    </tr>\n",
       "    <tr>\n",
       "      <th>word_count</th>\n",
       "      <td>31</td>\n",
       "      <td>3</td>\n",
       "      <td>22</td>\n",
       "      <td>5</td>\n",
       "      <td>33</td>\n",
       "    </tr>\n",
       "    <tr>\n",
       "      <th>episode_image_url</th>\n",
       "      <td>http://static-media.fxx.com/img/FX_Networks_-_...</td>\n",
       "      <td>http://static-media.fxx.com/img/FX_Networks_-_...</td>\n",
       "      <td>http://static-media.fxx.com/img/FX_Networks_-_...</td>\n",
       "      <td>http://static-media.fxx.com/img/FX_Networks_-_...</td>\n",
       "      <td>http://static-media.fxx.com/img/FX_Networks_-_...</td>\n",
       "    </tr>\n",
       "    <tr>\n",
       "      <th>episode_imdb_rating</th>\n",
       "      <td>8.5</td>\n",
       "      <td>8.5</td>\n",
       "      <td>8.5</td>\n",
       "      <td>8.5</td>\n",
       "      <td>8.5</td>\n",
       "    </tr>\n",
       "    <tr>\n",
       "      <th>episode_imdb_votes</th>\n",
       "      <td>1684.0</td>\n",
       "      <td>1684.0</td>\n",
       "      <td>1684.0</td>\n",
       "      <td>1684.0</td>\n",
       "      <td>1684.0</td>\n",
       "    </tr>\n",
       "    <tr>\n",
       "      <th>episode_number_in_season</th>\n",
       "      <td>19</td>\n",
       "      <td>19</td>\n",
       "      <td>19</td>\n",
       "      <td>19</td>\n",
       "      <td>19</td>\n",
       "    </tr>\n",
       "    <tr>\n",
       "      <th>episode_number_in_series</th>\n",
       "      <td>32</td>\n",
       "      <td>32</td>\n",
       "      <td>32</td>\n",
       "      <td>32</td>\n",
       "      <td>32</td>\n",
       "    </tr>\n",
       "    <tr>\n",
       "      <th>episode_original_air_date</th>\n",
       "      <td>1991-04-25</td>\n",
       "      <td>1991-04-25</td>\n",
       "      <td>1991-04-25</td>\n",
       "      <td>1991-04-25</td>\n",
       "      <td>1991-04-25</td>\n",
       "    </tr>\n",
       "    <tr>\n",
       "      <th>episode_original_air_year</th>\n",
       "      <td>1991</td>\n",
       "      <td>1991</td>\n",
       "      <td>1991</td>\n",
       "      <td>1991</td>\n",
       "      <td>1991</td>\n",
       "    </tr>\n",
       "    <tr>\n",
       "      <th>episode_production_code</th>\n",
       "      <td>7F19</td>\n",
       "      <td>7F19</td>\n",
       "      <td>7F19</td>\n",
       "      <td>7F19</td>\n",
       "      <td>7F19</td>\n",
       "    </tr>\n",
       "    <tr>\n",
       "      <th>episode_season</th>\n",
       "      <td>2</td>\n",
       "      <td>2</td>\n",
       "      <td>2</td>\n",
       "      <td>2</td>\n",
       "      <td>2</td>\n",
       "    </tr>\n",
       "    <tr>\n",
       "      <th>episode_title</th>\n",
       "      <td>Lisa's Substitute</td>\n",
       "      <td>Lisa's Substitute</td>\n",
       "      <td>Lisa's Substitute</td>\n",
       "      <td>Lisa's Substitute</td>\n",
       "      <td>Lisa's Substitute</td>\n",
       "    </tr>\n",
       "    <tr>\n",
       "      <th>episode_us_viewers_in_millions</th>\n",
       "      <td>17.7</td>\n",
       "      <td>17.7</td>\n",
       "      <td>17.7</td>\n",
       "      <td>17.7</td>\n",
       "      <td>17.7</td>\n",
       "    </tr>\n",
       "    <tr>\n",
       "      <th>episode_video_url</th>\n",
       "      <td>http://www.simpsonsworld.com/video/288011331912</td>\n",
       "      <td>http://www.simpsonsworld.com/video/288011331912</td>\n",
       "      <td>http://www.simpsonsworld.com/video/288011331912</td>\n",
       "      <td>http://www.simpsonsworld.com/video/288011331912</td>\n",
       "      <td>http://www.simpsonsworld.com/video/288011331912</td>\n",
       "    </tr>\n",
       "    <tr>\n",
       "      <th>episode_views</th>\n",
       "      <td>52770.0</td>\n",
       "      <td>52770.0</td>\n",
       "      <td>52770.0</td>\n",
       "      <td>52770.0</td>\n",
       "      <td>52770.0</td>\n",
       "    </tr>\n",
       "    <tr>\n",
       "      <th>character_name</th>\n",
       "      <td>Miss Hoover</td>\n",
       "      <td>Lisa Simpson</td>\n",
       "      <td>Miss Hoover</td>\n",
       "      <td>Lisa Simpson</td>\n",
       "      <td>Edna Krabappel-Flanders</td>\n",
       "    </tr>\n",
       "    <tr>\n",
       "      <th>character_normalized_name</th>\n",
       "      <td>miss hoover</td>\n",
       "      <td>lisa simpson</td>\n",
       "      <td>miss hoover</td>\n",
       "      <td>lisa simpson</td>\n",
       "      <td>edna krabappel-flanders</td>\n",
       "    </tr>\n",
       "    <tr>\n",
       "      <th>character_gender</th>\n",
       "      <td>f</td>\n",
       "      <td>f</td>\n",
       "      <td>f</td>\n",
       "      <td>f</td>\n",
       "      <td>f</td>\n",
       "    </tr>\n",
       "    <tr>\n",
       "      <th>location_name</th>\n",
       "      <td>Springfield Elementary School</td>\n",
       "      <td>Springfield Elementary School</td>\n",
       "      <td>Springfield Elementary School</td>\n",
       "      <td>Springfield Elementary School</td>\n",
       "      <td>Springfield Elementary School</td>\n",
       "    </tr>\n",
       "    <tr>\n",
       "      <th>location_normalized_name</th>\n",
       "      <td>springfield elementary school</td>\n",
       "      <td>springfield elementary school</td>\n",
       "      <td>springfield elementary school</td>\n",
       "      <td>springfield elementary school</td>\n",
       "      <td>springfield elementary school</td>\n",
       "    </tr>\n",
       "  </tbody>\n",
       "</table>\n",
       "</div>"
      ],
      "text/plain": [
       "                                                                                0  \\\n",
       "episode_id                                                                     32   \n",
       "number                                                                        209   \n",
       "raw_text                        Miss Hoover: No, actually, it was a little of ...   \n",
       "timestamp_in_ms                                                            848000   \n",
       "speaking_line                                                                true   \n",
       "character_id                                                                  464   \n",
       "location_id                                                                   3.0   \n",
       "raw_character_text                                                    Miss Hoover   \n",
       "raw_location_text                                   Springfield Elementary School   \n",
       "spoken_words                    No, actually, it was a little of both. Sometim...   \n",
       "normalized_text                 no actually it was a little of both sometimes ...   \n",
       "word_count                                                                     31   \n",
       "episode_image_url               http://static-media.fxx.com/img/FX_Networks_-_...   \n",
       "episode_imdb_rating                                                           8.5   \n",
       "episode_imdb_votes                                                         1684.0   \n",
       "episode_number_in_season                                                       19   \n",
       "episode_number_in_series                                                       32   \n",
       "episode_original_air_date                                              1991-04-25   \n",
       "episode_original_air_year                                                    1991   \n",
       "episode_production_code                                                      7F19   \n",
       "episode_season                                                                  2   \n",
       "episode_title                                                   Lisa's Substitute   \n",
       "episode_us_viewers_in_millions                                               17.7   \n",
       "episode_video_url                 http://www.simpsonsworld.com/video/288011331912   \n",
       "episode_views                                                             52770.0   \n",
       "character_name                                                        Miss Hoover   \n",
       "character_normalized_name                                             miss hoover   \n",
       "character_gender                                                                f   \n",
       "location_name                                       Springfield Elementary School   \n",
       "location_normalized_name                            springfield elementary school   \n",
       "\n",
       "                                                                                1  \\\n",
       "episode_id                                                                     32   \n",
       "number                                                                        210   \n",
       "raw_text                        Lisa Simpson: (NEAR TEARS) Where's Mr. Bergstrom?   \n",
       "timestamp_in_ms                                                            856000   \n",
       "speaking_line                                                                true   \n",
       "character_id                                                                    9   \n",
       "location_id                                                                   3.0   \n",
       "raw_character_text                                                   Lisa Simpson   \n",
       "raw_location_text                                   Springfield Elementary School   \n",
       "spoken_words                                               Where's Mr. Bergstrom?   \n",
       "normalized_text                                               wheres mr bergstrom   \n",
       "word_count                                                                      3   \n",
       "episode_image_url               http://static-media.fxx.com/img/FX_Networks_-_...   \n",
       "episode_imdb_rating                                                           8.5   \n",
       "episode_imdb_votes                                                         1684.0   \n",
       "episode_number_in_season                                                       19   \n",
       "episode_number_in_series                                                       32   \n",
       "episode_original_air_date                                              1991-04-25   \n",
       "episode_original_air_year                                                    1991   \n",
       "episode_production_code                                                      7F19   \n",
       "episode_season                                                                  2   \n",
       "episode_title                                                   Lisa's Substitute   \n",
       "episode_us_viewers_in_millions                                               17.7   \n",
       "episode_video_url                 http://www.simpsonsworld.com/video/288011331912   \n",
       "episode_views                                                             52770.0   \n",
       "character_name                                                       Lisa Simpson   \n",
       "character_normalized_name                                            lisa simpson   \n",
       "character_gender                                                                f   \n",
       "location_name                                       Springfield Elementary School   \n",
       "location_normalized_name                            springfield elementary school   \n",
       "\n",
       "                                                                                2  \\\n",
       "episode_id                                                                     32   \n",
       "number                                                                        211   \n",
       "raw_text                        Miss Hoover: I don't know. Although I'd sure l...   \n",
       "timestamp_in_ms                                                            856000   \n",
       "speaking_line                                                                true   \n",
       "character_id                                                                  464   \n",
       "location_id                                                                   3.0   \n",
       "raw_character_text                                                    Miss Hoover   \n",
       "raw_location_text                                   Springfield Elementary School   \n",
       "spoken_words                    I don't know. Although I'd sure like to talk t...   \n",
       "normalized_text                 i dont know although id sure like to talk to h...   \n",
       "word_count                                                                     22   \n",
       "episode_image_url               http://static-media.fxx.com/img/FX_Networks_-_...   \n",
       "episode_imdb_rating                                                           8.5   \n",
       "episode_imdb_votes                                                         1684.0   \n",
       "episode_number_in_season                                                       19   \n",
       "episode_number_in_series                                                       32   \n",
       "episode_original_air_date                                              1991-04-25   \n",
       "episode_original_air_year                                                    1991   \n",
       "episode_production_code                                                      7F19   \n",
       "episode_season                                                                  2   \n",
       "episode_title                                                   Lisa's Substitute   \n",
       "episode_us_viewers_in_millions                                               17.7   \n",
       "episode_video_url                 http://www.simpsonsworld.com/video/288011331912   \n",
       "episode_views                                                             52770.0   \n",
       "character_name                                                        Miss Hoover   \n",
       "character_normalized_name                                             miss hoover   \n",
       "character_gender                                                                f   \n",
       "location_name                                       Springfield Elementary School   \n",
       "location_normalized_name                            springfield elementary school   \n",
       "\n",
       "                                                                                3  \\\n",
       "episode_id                                                                     32   \n",
       "number                                                                        212   \n",
       "raw_text                                 Lisa Simpson: That life is worth living.   \n",
       "timestamp_in_ms                                                            864000   \n",
       "speaking_line                                                                true   \n",
       "character_id                                                                    9   \n",
       "location_id                                                                   3.0   \n",
       "raw_character_text                                                   Lisa Simpson   \n",
       "raw_location_text                                   Springfield Elementary School   \n",
       "spoken_words                                           That life is worth living.   \n",
       "normalized_text                                         that life is worth living   \n",
       "word_count                                                                      5   \n",
       "episode_image_url               http://static-media.fxx.com/img/FX_Networks_-_...   \n",
       "episode_imdb_rating                                                           8.5   \n",
       "episode_imdb_votes                                                         1684.0   \n",
       "episode_number_in_season                                                       19   \n",
       "episode_number_in_series                                                       32   \n",
       "episode_original_air_date                                              1991-04-25   \n",
       "episode_original_air_year                                                    1991   \n",
       "episode_production_code                                                      7F19   \n",
       "episode_season                                                                  2   \n",
       "episode_title                                                   Lisa's Substitute   \n",
       "episode_us_viewers_in_millions                                               17.7   \n",
       "episode_video_url                 http://www.simpsonsworld.com/video/288011331912   \n",
       "episode_views                                                             52770.0   \n",
       "character_name                                                       Lisa Simpson   \n",
       "character_normalized_name                                            lisa simpson   \n",
       "character_gender                                                                f   \n",
       "location_name                                       Springfield Elementary School   \n",
       "location_normalized_name                            springfield elementary school   \n",
       "\n",
       "                                                                                4  \n",
       "episode_id                                                                     32  \n",
       "number                                                                        213  \n",
       "raw_text                        Edna Krabappel-Flanders: The polls will be ope...  \n",
       "timestamp_in_ms                                                            864000  \n",
       "speaking_line                                                                true  \n",
       "character_id                                                                   40  \n",
       "location_id                                                                   3.0  \n",
       "raw_character_text                                        Edna Krabappel-Flanders  \n",
       "raw_location_text                                   Springfield Elementary School  \n",
       "spoken_words                    The polls will be open from now until the end ...  \n",
       "normalized_text                 the polls will be open from now until the end ...  \n",
       "word_count                                                                     33  \n",
       "episode_image_url               http://static-media.fxx.com/img/FX_Networks_-_...  \n",
       "episode_imdb_rating                                                           8.5  \n",
       "episode_imdb_votes                                                         1684.0  \n",
       "episode_number_in_season                                                       19  \n",
       "episode_number_in_series                                                       32  \n",
       "episode_original_air_date                                              1991-04-25  \n",
       "episode_original_air_year                                                    1991  \n",
       "episode_production_code                                                      7F19  \n",
       "episode_season                                                                  2  \n",
       "episode_title                                                   Lisa's Substitute  \n",
       "episode_us_viewers_in_millions                                               17.7  \n",
       "episode_video_url                 http://www.simpsonsworld.com/video/288011331912  \n",
       "episode_views                                                             52770.0  \n",
       "character_name                                            Edna Krabappel-Flanders  \n",
       "character_normalized_name                                 edna krabappel-flanders  \n",
       "character_gender                                                                f  \n",
       "location_name                                       Springfield Elementary School  \n",
       "location_normalized_name                            springfield elementary school  "
      ]
     },
     "execution_count": 51,
     "metadata": {},
     "output_type": "execute_result"
    }
   ],
   "source": [
    "data.head().T"
   ]
  },
  {
   "cell_type": "code",
   "execution_count": 88,
   "id": "63d9be59-35dc-4cd2-b0ca-a5ed45632e51",
   "metadata": {},
   "outputs": [
    {
     "data": {
      "text/plain": [
       "['car, marge simpson said: ooo careful homer',\n",
       " 'car, homer simpson said: theres no time to be careful',\n",
       " 'car, homer simpson said: were late',\n",
       " 'auditorium, marge simpson said: sorry excuse us pardon me',\n",
       " 'auditorium, homer simpson said: hey norman hows it going so you got dragged down here too heh heh how ya doing fred excuse me fred',\n",
       " 'auditorium, homer simpson said: pardon my galoshes',\n",
       " 'auditorium, seymour skinner said: wasnt that wonderful and now santas of many lands as presented by the entire second grade class',\n",
       " 'auditorium, marge simpson said: oh lisas class',\n",
       " 'auditorium, janey said: frohlich weihnachten -- thats german for merry christmas in germany santas servant ruprecht gives presents to good children and whipping rods to the parents of bad ones',\n",
       " 'auditorium, todd flanders said: meri kurimasu i am hotseiosha a japanese priest who acts like santa claus i have eyes in the back of my head so children better behave when im nearby',\n",
       " 'auditorium, dewey largo said: and now presenting lisa simpson as tawanga the santa claus of the south seas',\n",
       " 'auditorium, homer simpson said: oh its lisa thats ours',\n",
       " 'auditorium, seymour skinner said: the fourth grade will now favor us with a melody medley of holiday flavorites',\n",
       " 'auditorium, children said: dashing through the snow in a one-horse open sleigh oer the fields we go laughing all the way ha ha ha bells on bob-tail ring making spirits bright what fun it is to ride and sing this sleighing song tonight',\n",
       " 'auditorium, marge simpson said: isnt bart sweet homer he sings like a little angel',\n",
       " 'auditorium, bart simpson said: jingle bells batman smells robin laid an egg the batmobile broke its wheel the joker got away',\n",
       " 'auditorium, seymour skinner said: the fifth grade will now favor us with a scene from charles dickens a christmas carol',\n",
       " 'auditorium, homer simpson said: how many grades does this school have',\n",
       " 'simpson home, homer simpson said: who shall i say is calling',\n",
       " 'simpson home, patty bouvier said: marge please',\n",
       " 'simpson home, homer simpson said: its your sister',\n",
       " 'simpson home, marge simpson said: hello',\n",
       " 'simpson home, homer simpson said: what why oh yeah hello patty hello selma how was your trip',\n",
       " 'simpson home, marge simpson said: dear friends of the simpson family we had some sadness and some gladness this year first the sadness our little cat snowball was unexpectedly run over and went to kitty heaven but we bought a new little cat snowball iiso i guess life goes on speaking of life going on grampa is still with us feisty as ever maggie is walking by herself lisa got straight as and bart well we love bart the magic of the season has touched us all',\n",
       " 'simpson home, homer simpson said: marge havent you finished that stupid letter yet',\n",
       " 'simpson home, marge simpson said: homer sends his love happy holidays',\n",
       " 'simpson home, homer simpson said: marge',\n",
       " 'simpson home, marge simpson said: the simpsons',\n",
       " 'simpson home, homer simpson said: marge wheres the extension cord',\n",
       " 'simpson home, marge simpson said: oh for heavens sakes homer its in the utility drawer',\n",
       " 'simpson home, homer simpson said: sorry im just a big kid and i love christmas so much',\n",
       " 'simpson home, homer simpson said: every year',\n",
       " 'simpson home, marge simpson said: all right children let me have those letters ill send them to santas workshop at the north pole',\n",
       " 'simpson home, bart simpson said: oh please theres only one fat guy that brings us presents and his name aint santa',\n",
       " 'simpson home, marge simpson said: a pony oh lisa youve asked for that for the last three years and i keep telling you santa cant fit a pony into his sleigh cant you take a hint',\n",
       " 'simpson home, lisa simpson said: but i really want a pony and ive been really really good this year',\n",
       " 'simpson home, marge simpson said: oh dear maybe bart is a little more realistic',\n",
       " 'simpson home, marge simpson said: a tattoo',\n",
       " 'simpson home, homer simpson said: a what',\n",
       " 'simpson home, bart simpson said: yeah theyre cool and they last the rest of the your life',\n",
       " 'simpson home, marge simpson said: you will not be getting a tattoo for christmas',\n",
       " 'simpson home, homer simpson said: yeah if you want one youll have to pay for it out of your own allowance',\n",
       " 'simpson home, bart simpson said: all right',\n",
       " 'simpson home, marge simpson said: homer',\n",
       " 'simpson home, homer simpson said: yello',\n",
       " 'simpson home, patty bouvier said: marge please',\n",
       " 'simpson home, homer simpson said: whos this',\n",
       " 'simpson home, patty bouvier said: may i please speak to marge',\n",
       " 'simpson home, homer simpson said: this is her sister isnt it',\n",
       " 'simpson home, patty bouvier said: is marge there']"
      ]
     },
     "execution_count": 88,
     "metadata": {},
     "output_type": "execute_result"
    }
   ],
   "source": [
    "X['subtitles'].tolist()[:50]"
   ]
  },
  {
   "cell_type": "markdown",
   "id": "9a7e7a6b-7302-49ae-b7bb-af5252277ce3",
   "metadata": {},
   "source": [
    "# Sumarização por Chunks\n",
    "## Exercício\n",
    "\n",
    "- Tarefa 1 - sumarização de episódios: Utilizar técnicas de prompt engineering para sumarizar um episódio do programa.\n",
    "- Tarefa 2 - sumarização da temporada: Quebrar a temporada em chunks de episódios para sumarização dividida. \n",
    "- Tarefa 3 - listar a interação com a família: para cada temporada, listar quais foram os personagens que mais interagiram com cada membro da família."
   ]
  },
  {
   "cell_type": "code",
   "execution_count": 110,
   "id": "157d9366-7e3d-40d1-ac38-6e56929fd76a",
   "metadata": {},
   "outputs": [],
   "source": [
    "# Abrir pdf\n",
    "# Processar todas as paginas\n",
    "# Separar o texto em chunks\n",
    "# Processar cada chunk pelo LLM\n",
    "# Concatenar o resumo de cada chunk\n",
    "# Processar os resumos dos chunks para fechar o resumo do artigo\n",
    "# Avaliar o resumo."
   ]
  },
  {
   "cell_type": "markdown",
   "id": "91902546-a4dd-4098-b6c0-fa8c18f6bfa6",
   "metadata": {},
   "source": [
    "# Estimativa de Tokens"
   ]
  },
  {
   "cell_type": "code",
   "execution_count": 75,
   "id": "2018aa9b-f71e-40f0-b553-652f568dded6",
   "metadata": {},
   "outputs": [
    {
     "name": "stdout",
     "output_type": "stream",
     "text": [
      "Número de tokens: 4\n"
     ]
    },
    {
     "data": {
      "text/plain": [
       "[9906, 1917, 264, 29558]"
      ]
     },
     "execution_count": 75,
     "metadata": {},
     "output_type": "execute_result"
    }
   ],
   "source": [
    "import tiktoken\n",
    "\n",
    "# Função para estimar número de tokens\n",
    "def estimar_tokens(texto):\n",
    "    encoder = tiktoken.get_encoding(\"cl100k_base\")  # Exemplo de codificação\n",
    "    tokens = encoder.encode(texto)\n",
    "    return tokens\n",
    "\n",
    "# Exemplo de uso\n",
    "texto = \"Este é um exemplo de texto para calcular o número de tokens.\"\n",
    "texto = \"Hello world aaaaa\"\n",
    "tokens = estimar_tokens(texto)\n",
    "print(f\"Número de tokens: {len(tokens)}\")\n",
    "tokens\n"
   ]
  },
  {
   "cell_type": "markdown",
   "id": "2589ac3c-4aae-4075-ac06-713540ec882b",
   "metadata": {},
   "source": [
    "### Exercício\n",
    "\n",
    "Escreva uma função em Python que divida um texto longo automaticamente em chunks com um número máximo de tokens (ex.: 150 tokens). Teste a função com um texto de aproximadamente 500 palavras e observe quantos chunks são criados.\n",
    "\n"
   ]
  },
  {
   "cell_type": "markdown",
   "id": "6a23b7c7-d1bc-43f0-859a-45f8bf491869",
   "metadata": {},
   "source": [
    "# Role Prompting"
   ]
  },
  {
   "cell_type": "code",
   "execution_count": 108,
   "id": "1c316da8-f069-454e-9961-5debb7034563",
   "metadata": {},
   "outputs": [
    {
     "name": "stdout",
     "output_type": "stream",
     "text": [
      "A Revolução Industrial, que teve início na Inglaterra em meados do século XVIII, trouxe transformações profundas e duradouras em praticamente todos os aspectos da sociedade. O impacto desta revolução pode ser analisado em diferentes esferas:\n",
      "\n",
      "1. **Econômico**: A Revolução Industrial marcou a transição de economias agrárias para economias industriais. Houve um aumento massivo na produção de bens, graças à introdução de máquinas e novas técnicas de produção, como a linha de montagem. Isso levou a um crescimento econômico significativo e à formação de grandes centros urbanos ao redor das fábricas.\n",
      "\n",
      "2. **Social**: A urbanização rápida mudou a estrutura social. As cidades cresceram rapidamente, muitas vezes sem planejamento adequado, levando a condições de vida precárias para muitos trabalhadores. O surgimento de uma nova classe trabalhadora industrial foi concomitante ao estabelecimento e enriquecimento da burguesia industrial. Além disso, a Revolução Industrial fomentou o sindicalismo e movimentos trabalhistas, que buscavam melhores condições de trabalho e direitos para os trabalhadores.\n",
      "\n",
      "3. **Tecnológico**: Introduziu inovações tecnológicas sem precedentes, como o motor a vapor, o tear mecânico e, mais tarde, a eletricidade e o motor de combustão interna. Essas inovações não apenas aumentaram a produtividade, mas também criaram novas indústrias e oportunidades de emprego.\n",
      "\n",
      "4. **Cultural**: Aumento da alfabetização e maior valorização da educação técnica e científica para suprir as necessidades da nova economia industrial. As mudanças econômicas e sociais aceleraram o ritmo de transformação cultural.\n",
      "\n",
      "5. **Ambiental**: O aumento da produção industrial trouxe consigo efeitos ambientais significativos, como a poluição do ar e da água e a exploração intensiva de recursos naturais, consequências que continuam a ser desafios nos dias atuais.\n",
      "\n",
      "6. **Político**: Houve mudanças na distribuição do poder político, com o crescimento da influência econômica da classe industrial. As demandas por direitos e representatividade política cresceram, impulsionando reformas sociais e políticas.\n",
      "\n",
      "Em suma, a Revolução Industrial foi um marco na história da humanidade que moldou o mundo moderno, desencadeando uma série de mudanças profundas que continuam a ter consequências no presente. As suas reverberações podem ser vistas na estrutura econômica global, nas relações sociais e nos desafios ambientais enfrentados hoje.\n",
      "Certamente! Engajar o público nas redes sociais é essencial para fomentar um relacionamento sólido, aumentar a visibilidade da marca e, eventualmente, converter seguidores em clientes. Aqui estão algumas sugestões para aumentar o engajamento:\n",
      "\n",
      "1. **Conteúdo Visual**: Utilize imagens atraentes, vídeos curtos, infográficos e GIFs para capturar a atenção do seu público rapidamente. Conteúdos visuais tendem a gerar mais engajamento do que posts apenas de texto.\n",
      "\n",
      "2. **Stories e Reels**: Aproveite as ferramentas de Stories e Reels no Instagram e Facebook para compartilhar conteúdo autêntico e dinâmico que desaparece após 24 horas, criando um senso de urgência.\n",
      "\n",
      "3. **Interatividade**: Inclua enquetes, quizzes e perguntas nos seus posts ou stories. Isso não apenas incentiva o engajamento, mas também oferece insights valiosos sobre seu público.\n",
      "\n",
      "4. **Conteúdo Gerado pelo Usuário**: Incentive seus seguidores a criar e compartilhar conteúdo relacionado à sua marca. Isso pode incluir concursos ou hashtags de campanha, mostrando a autenticidade e comprovando o valor da marca.\n",
      "\n",
      "5. **Lives**: Realize transmissões ao vivo para interagir diretamente com seu público. Isso pode incluir demonstrações de produtos, sessões de Perguntas e Respostas ou bastidores da empresa.\n",
      "\n",
      "6. **Conteúdo Relevante e Atualizado**: Comente sobre tendências atuais ou eventos relevantes para sua indústria. Isso demonstra que sua marca está antenada no que está acontecendo no mundo.\n",
      "\n",
      "7. **Parcerias e Colaborações**: Colabore com influenciadores ou outras marcas que compartilhem dos mesmos valores. Isso ajuda a alcançar um público mais amplo e construir credibilidade.\n",
      "\n",
      "8. **Conteúdo de Valor**: Ofereça dicas, tutoriais ou insights que agreguem valor real ao seu público. Isso pode estabelecer sua marca como autoridade em seu setor e promover o compartilhamento do seu conteúdo.\n",
      "\n",
      "9. **Consistência na Postagem**: Mantenha uma frequência regular de postagens para estar sempre presente no feed do seu público. Utilize um calendário de conteúdo para planejar postagens com antecedência.\n",
      "\n",
      "10. **Humanização da Marca**: Mostre o lado humano da sua marca. Compartilhe histórias de funcionários, valores da empresa ou projetos sociais.\n",
      "\n",
      "11. **Respondendo Comentários e Mensagens**: Engaje-se ativamente com seu público respondendo a comentários e mensagens de forma rápida e autêntica. Isso cria um senso de comunidade e reforça a lealdade à marca.\n",
      "\n",
      "12. **Utilização de Hashtags**: Crie e use hashtags relevantes para aumentar a descoberta dos seus posts. Explore tanto hashtags populares quanto específicas para captar diferentes audiências.\n",
      "\n",
      "Adotar uma abordagem estratégica que combine várias dessas táticas pode ajudar a aumentar significativamente o engajamento nas redes sociais.\n"
     ]
    }
   ],
   "source": [
    "from openai import OpenAI\n",
    "# OPENAI_KEY é uma chave que deve ser colocada no aquivo .env na raiz do notebook\n",
    "client = OpenAI(\n",
    "    api_key=os.environ['OPENAI_KEY']\n",
    ")\n",
    "\n",
    "def gerar_resposta(prompt, papel):\n",
    "    prompt_final = f\"Seja um {papel} e responda: {prompt}\"\n",
    "    completion = client.chat.completions.create(\n",
    "        model=\"gpt-4o\",\n",
    "        messages=[\n",
    "            # {\"role\": \"system\", \"content\": \"You are a helpful assistant.\"},\n",
    "            {\"role\": \"user\", \"content\": prompt_final}\n",
    "        ],\n",
    "        stream=False,\n",
    "        \n",
    "    )\n",
    "    return completion.choices[0].message.content.strip()\n",
    "\n",
    "\n",
    "# Exemplos de uso\n",
    "print(gerar_resposta(\"Explique o impacto da Revolução Industrial.\", \"historiador\"))\n",
    "print(gerar_resposta(\"Dê sugestões para engajamento nas redes sociais.\", \"especialista em marketing\"))\n"
   ]
  },
  {
   "cell_type": "markdown",
   "id": "42f62f17-65fe-4b16-bcd5-98642367c427",
   "metadata": {},
   "source": [
    "## Exercício\n",
    "\n",
    "\n",
    "- Tarefa 1 - Role prompting para agentes personalizados: Criar Agentes de IA que possam interpretar os personagens na interação com o usuário.\n",
    "- Tarefa 2 - Recriação de episódios: Simular os editores dos Simpsons, criando novos diálogos e fim para os episódios.\n",
    "- Tarefa 3 - Assistente de conteúdo: Interface para QA com um assistente especialista em Simpsons."
   ]
  },
  {
   "cell_type": "markdown",
   "id": "751eb951-74af-468d-a74e-ffc7e24de297",
   "metadata": {},
   "source": [
    "### Tarefa 1 - Role prompting para agentes personalizados:\n",
    "Criar Agentes de IA que possam interpretar os personagens na interação com o usuário."
   ]
  },
  {
   "cell_type": "markdown",
   "id": "55d0465e-3bd2-40fb-a9ad-2b2a8fae43f9",
   "metadata": {},
   "source": [
    "#### Prombt Base "
   ]
  },
  {
   "cell_type": "code",
   "execution_count": 235,
   "id": "e1168cdb-c510-406d-8ddc-c6684a327102",
   "metadata": {},
   "outputs": [
    {
     "data": {
      "text/plain": [
       "Index(['episode_id', 'number', 'raw_text', 'timestamp_in_ms', 'speaking_line',\n",
       "       'character_id', 'location_id', 'raw_character_text',\n",
       "       'raw_location_text', 'spoken_words', 'normalized_text', 'word_count',\n",
       "       'episode_image_url', 'episode_imdb_rating', 'episode_imdb_votes',\n",
       "       'episode_number_in_season', 'episode_number_in_series',\n",
       "       'episode_original_air_date', 'episode_original_air_year',\n",
       "       'episode_production_code', 'episode_season', 'episode_title',\n",
       "       'episode_us_viewers_in_millions', 'episode_video_url', 'episode_views',\n",
       "       'character_name', 'character_normalized_name', 'character_gender',\n",
       "       'location_name', 'location_normalized_name'],\n",
       "      dtype='object')"
      ]
     },
     "execution_count": 235,
     "metadata": {},
     "output_type": "execute_result"
    }
   ],
   "source": [
    "data.columns"
   ]
  },
  {
   "cell_type": "code",
   "execution_count": 240,
   "id": "f1dd8646-fe9e-47a6-9fcd-c700b4b12a17",
   "metadata": {},
   "outputs": [
    {
     "data": {
      "text/html": [
       "<div>\n",
       "<style scoped>\n",
       "    .dataframe tbody tr th:only-of-type {\n",
       "        vertical-align: middle;\n",
       "    }\n",
       "\n",
       "    .dataframe tbody tr th {\n",
       "        vertical-align: top;\n",
       "    }\n",
       "\n",
       "    .dataframe thead th {\n",
       "        text-align: right;\n",
       "    }\n",
       "</style>\n",
       "<table border=\"1\" class=\"dataframe\">\n",
       "  <thead>\n",
       "    <tr style=\"text-align: right;\">\n",
       "      <th></th>\n",
       "      <th>character_normalized_name</th>\n",
       "      <th>normalized_text</th>\n",
       "      <th>location_normalized_name</th>\n",
       "    </tr>\n",
       "  </thead>\n",
       "  <tbody>\n",
       "    <tr>\n",
       "      <th>148761</th>\n",
       "      <td>NaN</td>\n",
       "      <td>NaN</td>\n",
       "      <td>street</td>\n",
       "    </tr>\n",
       "    <tr>\n",
       "      <th>148762</th>\n",
       "      <td>NaN</td>\n",
       "      <td>NaN</td>\n",
       "      <td>car</td>\n",
       "    </tr>\n",
       "    <tr>\n",
       "      <th>148763</th>\n",
       "      <td>marge simpson</td>\n",
       "      <td>ooo careful homer</td>\n",
       "      <td>car</td>\n",
       "    </tr>\n",
       "    <tr>\n",
       "      <th>148764</th>\n",
       "      <td>homer simpson</td>\n",
       "      <td>theres no time to be careful</td>\n",
       "      <td>car</td>\n",
       "    </tr>\n",
       "    <tr>\n",
       "      <th>148765</th>\n",
       "      <td>homer simpson</td>\n",
       "      <td>were late</td>\n",
       "      <td>car</td>\n",
       "    </tr>\n",
       "    <tr>\n",
       "      <th>...</th>\n",
       "      <td>...</td>\n",
       "      <td>...</td>\n",
       "      <td>...</td>\n",
       "    </tr>\n",
       "    <tr>\n",
       "      <th>149139</th>\n",
       "      <td>marge simpson</td>\n",
       "      <td>take it homer</td>\n",
       "      <td>simpson home</td>\n",
       "    </tr>\n",
       "    <tr>\n",
       "      <th>149140</th>\n",
       "      <td>homer simpson</td>\n",
       "      <td>rudolph with your nose over here so you can gu...</td>\n",
       "      <td>simpson home</td>\n",
       "    </tr>\n",
       "    <tr>\n",
       "      <th>149141</th>\n",
       "      <td>marge simpson</td>\n",
       "      <td>oh homer</td>\n",
       "      <td>simpson home</td>\n",
       "    </tr>\n",
       "    <tr>\n",
       "      <th>149142</th>\n",
       "      <td>lisa simpson</td>\n",
       "      <td>then all the reindeer loved him as they shoute...</td>\n",
       "      <td>simpson home</td>\n",
       "    </tr>\n",
       "    <tr>\n",
       "      <th>149143</th>\n",
       "      <td>bart simpson</td>\n",
       "      <td>like attila the hun</td>\n",
       "      <td>simpson home</td>\n",
       "    </tr>\n",
       "  </tbody>\n",
       "</table>\n",
       "<p>377 rows × 3 columns</p>\n",
       "</div>"
      ],
      "text/plain": [
       "       character_normalized_name  \\\n",
       "148761                       NaN   \n",
       "148762                       NaN   \n",
       "148763             marge simpson   \n",
       "148764             homer simpson   \n",
       "148765             homer simpson   \n",
       "...                          ...   \n",
       "149139             marge simpson   \n",
       "149140             homer simpson   \n",
       "149141             marge simpson   \n",
       "149142              lisa simpson   \n",
       "149143              bart simpson   \n",
       "\n",
       "                                          normalized_text  \\\n",
       "148761                                                NaN   \n",
       "148762                                                NaN   \n",
       "148763                                  ooo careful homer   \n",
       "148764                       theres no time to be careful   \n",
       "148765                                          were late   \n",
       "...                                                   ...   \n",
       "149139                                      take it homer   \n",
       "149140  rudolph with your nose over here so you can gu...   \n",
       "149141                                           oh homer   \n",
       "149142  then all the reindeer loved him as they shoute...   \n",
       "149143                                like attila the hun   \n",
       "\n",
       "       location_normalized_name  \n",
       "148761                   street  \n",
       "148762                      car  \n",
       "148763                      car  \n",
       "148764                      car  \n",
       "148765                      car  \n",
       "...                         ...  \n",
       "149139             simpson home  \n",
       "149140             simpson home  \n",
       "149141             simpson home  \n",
       "149142             simpson home  \n",
       "149143             simpson home  \n",
       "\n",
       "[377 rows x 3 columns]"
      ]
     },
     "execution_count": 240,
     "metadata": {},
     "output_type": "execute_result"
    }
   ],
   "source": [
    "idx = (data.episode_season == 1) & (data.episode_id == 1)\n",
    "data[idx][['character_normalized_name', 'normalized_text', 'location_normalized_name']]"
   ]
  },
  {
   "cell_type": "markdown",
   "id": "1d56936f-d1e8-4944-aa33-20472c96854e",
   "metadata": {},
   "source": [
    "### Tarefa 2 - Recriação de episódios:\n",
    "Simular os editores dos Simpsons, criando novos diálogos e fim para os episódios."
   ]
  },
  {
   "cell_type": "code",
   "execution_count": null,
   "id": "f0a83916-02ad-4653-8a48-bf76dfa47ae9",
   "metadata": {},
   "outputs": [],
   "source": []
  }
 ],
 "metadata": {
  "kernelspec": {
   "display_name": "Python 3 (ipykernel)",
   "language": "python",
   "name": "python3"
  },
  "language_info": {
   "codemirror_mode": {
    "name": "ipython",
    "version": 3
   },
   "file_extension": ".py",
   "mimetype": "text/x-python",
   "name": "python",
   "nbconvert_exporter": "python",
   "pygments_lexer": "ipython3",
   "version": "3.10.0"
  }
 },
 "nbformat": 4,
 "nbformat_minor": 5
}
