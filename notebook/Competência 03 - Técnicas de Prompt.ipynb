{
 "cells": [
  {
   "cell_type": "code",
   "execution_count": 1,
   "id": "4037da62-c26c-4881-92d3-c6603cd98b5c",
   "metadata": {},
   "outputs": [],
   "source": [
    "import joblib\n",
    "import os\n",
    "import pandas as pd\n",
    "import google.generativeai as genai\n",
    "from dotenv import load_dotenv\n",
    "import tiktoken\n",
    "\n",
    "# Cada um deve criar o seu proprio .env na raiz do repositorio\n",
    "# Esse .env deve ter os pares de chave=valor\n",
    "# GEMINI_KEY\n",
    "# OPENAI_KEY\n",
    "load_dotenv('../.env')\n",
    "\n",
    "# Função para estimar número de tokens\n",
    "def estimar_tokens(texto):\n",
    "    encoder = tiktoken.get_encoding(\"cl100k_base\")  # Exemplo de codificação\n",
    "    # encoder = tiktoken.get_encoding(\"gpt-4o\")  # Exemplo de codificação\n",
    "    tokens = encoder.encode(texto)\n",
    "    return tokens\n",
    "\n",
    "# # Exemplo de uso\n",
    "# texto = \"Este é um exemplo de texto para calcular o número de tokens.\"\n",
    "# # texto = \"Hello world aaaaa\"\n",
    "# tokens = estimar_tokens(texto)\n",
    "# print(f\"Número de tokens: {len(tokens)}\")\n",
    "# tokens\n"
   ]
  },
  {
   "cell_type": "markdown",
   "id": "a9fc56ca-a3d1-4cd6-b626-a25127a01fdc",
   "metadata": {},
   "source": [
    "# Self-Ask Prompting"
   ]
  },
  {
   "cell_type": "code",
   "execution_count": 2,
   "id": "1df943af-6cad-47af-a03f-e972c719e0eb",
   "metadata": {},
   "outputs": [
    {
     "name": "stdout",
     "output_type": "stream",
     "text": [
      "To resume Star Wars, start by checking how many movies are in the franchise. There are currently 11 live-action Star Wars movies and various animated spin-offs. Next, familiarize yourself with the release order of the movies, which is as follows:\n",
      "\n",
      "1. Star Wars: Episode IV - A New Hope (1977)\n",
      "2. Star Wars: Episode V - The Empire Strikes Back (1980)\n",
      "3. Star Wars: Episode VI - Return of the Jedi (1983)\n",
      "4. Star Wars: Episode I - The Phantom Menace (1999)\n",
      "5. Star Wars: Episode II - Attack of the Clones (2002)\n",
      "6. Star Wars: Episode III - Revenge of the Sith (2005)\n",
      "7. Star Wars: The Clone Wars (2008)\n",
      "8. Star Wars: Episode VII - The Force Awakens (2015)\n",
      "9. Rogue One: A Star Wars Story (2016)\n",
      "10. Star Wars: Episode VIII - The Last Jedi (2017)\n",
      "11. Solo: A Star Wars Story (2018)\n",
      "\n",
      "Lastly, if you want to watch the movies in chronological order based on the events in the story, you can follow this order:\n",
      "\n",
      "1. Star Wars: Episode I - The Phantom Menace\n",
      "2. Star Wars: Episode II - Attack of the Clones\n",
      "3. Star Wars: The Clone Wars\n",
      "4. Star Wars: Episode III - Revenge of the Sith\n",
      "5. Solo: A Star Wars Story\n",
      "6. Rogue One: A Star Wars Story\n",
      "7. Star Wars: Episode IV - A New Hope\n",
      "8. Star Wars: Episode V - The Empire Strikes Back\n",
      "9. Star Wars: Episode VI - Return of the Jedi\n",
      "10. Star Wars: Episode VII - The Force Awakens\n",
      "11. Star Wars: Episode VIII - The Last Jedi\n"
     ]
    }
   ],
   "source": [
    "from openai import OpenAI\n",
    "# OPENAI_KEY é uma chave que deve ser colocada no aquivo .env na raiz do notebook\n",
    "\n",
    "def self_ask_step_by_step(client, model_name, hypothesis):\n",
    "    # Passo 1: Iniciar a pergunta principal\n",
    "    prompt_inicial = f\"\"\"\n",
    "    Divide the following hypothesis in other three small, objective, questions to answer it.\n",
    "    '{hypothesis}'\n",
    "\n",
    "    Generate a JSON with the list of question and answer pairs:\n",
    "    ['question 1', 'question 2']\n",
    "    \"\"\" \n",
    "    prompt_inicial = prompt_inicial.replace('\\n', ' ')\n",
    "    questions = client.completions.create(\n",
    "        model=model_name,\n",
    "        prompt=prompt_inicial,\n",
    "        max_tokens = 200\n",
    "    ).choices[0].text.strip().split('\\n')\n",
    "\n",
    "    # return questions\n",
    "    prompt = f\"\"\"\n",
    "    Respond to \"{hypothesis}\" considering the given follow-up questions:\n",
    "    { ' '.join(questions) }\n",
    "    \"\"\"\n",
    "\n",
    "    # print(prompt)\n",
    "    response = client.completions.create(\n",
    "        model=model_name,\n",
    "        prompt=prompt,\n",
    "        max_tokens = 500\n",
    "    ).choices[0].text.strip()\n",
    "        \n",
    "    return response\n",
    "    # Passo 2: Responder cada etapa individualmente\n",
    "    # question_answers = []\n",
    "    # for q in questions:\n",
    "    #     prompt= f\"Responde objectively to the following question: {q}\"\n",
    "    #     response = client.completions.create(\n",
    "    #         model=model_name,\n",
    "    #         prompt=prompt,\n",
    "    #         max_tokens = 500\n",
    "    #     ).choices[0].text.strip()\n",
    "    #     question_answers.append(f\"Question: {q} \\nResponse: {response}\")\n",
    "    \n",
    "    # return questions\n",
    "\n",
    "\n",
    "client = OpenAI(\n",
    "    api_key=os.environ['OPENAI_KEY']\n",
    ")\n",
    "model_name = \"gpt-3.5-turbo-instruct\"\n",
    "question = \"How can I resume Star Wars?\"\n",
    "answer = self_ask_step_by_step(client, model_name, question)\n",
    "\n",
    "print(answer)\n"
   ]
  },
  {
   "cell_type": "markdown",
   "id": "ce282943-34b2-4e3a-8a2c-ff94c64248d4",
   "metadata": {},
   "source": [
    "# PAL"
   ]
  },
  {
   "cell_type": "code",
   "execution_count": 3,
   "id": "1e4ed56d-9e75-4dc7-af86-a0c5ba7383ee",
   "metadata": {},
   "outputs": [],
   "source": [
    "# !pip install langchain_experimental"
   ]
  },
  {
   "cell_type": "code",
   "execution_count": 4,
   "id": "1c9284af-10b7-4e4f-8317-12cd110fb598",
   "metadata": {},
   "outputs": [
    {
     "name": "stderr",
     "output_type": "stream",
     "text": [
      "/tmp/ipykernel_15441/946444870.py:6: LangChainDeprecationWarning: The class `OpenAI` was deprecated in LangChain 0.0.10 and will be removed in 1.0. An updated version of the class exists in the :class:`~langchain-openai package and should be used instead. To use it run `pip install -U :class:`~langchain-openai` and import as `from :class:`~langchain_openai import OpenAI``.\n",
      "  llm = OpenAI(\n",
      "/tmp/ipykernel_15441/946444870.py:20: LangChainDeprecationWarning: The method `Chain.run` was deprecated in langchain 0.1.0 and will be removed in 1.0. Use :meth:`~invoke` instead.\n",
      "  pal_chain.run(question)\n"
     ]
    },
    {
     "name": "stdout",
     "output_type": "stream",
     "text": [
      "\n",
      "\n",
      "\u001b[1m> Entering new PALChain chain...\u001b[0m\n"
     ]
    },
    {
     "name": "stderr",
     "output_type": "stream",
     "text": [
      "Python REPL can execute arbitrary code. Use with caution.\n"
     ]
    },
    {
     "name": "stdout",
     "output_type": "stream",
     "text": [
      "\u001b[32;1m\u001b[1;3mdef solution():\n",
      "    \"\"\"Jan has three times the number of pets as Marcia. Marcia has two more pets than Cindy.\n",
      "    If Cindy has four pets, how many total pets do the three have?\"\"\"\n",
      "    cindy_pets = 4\n",
      "    marcia_pets = cindy_pets + 2\n",
      "    jan_pets = marcia_pets * 3\n",
      "    total_pets = cindy_pets + marcia_pets + jan_pets\n",
      "    result = total_pets\n",
      "    return result\u001b[0m\n",
      "\n",
      "\u001b[1m> Finished chain.\u001b[0m\n"
     ]
    },
    {
     "data": {
      "text/plain": [
       "'28'"
      ]
     },
     "execution_count": 4,
     "metadata": {},
     "output_type": "execute_result"
    }
   ],
   "source": [
    "import os\n",
    "from langchain_experimental.pal_chain.base import PALChain\n",
    "from langchain import OpenAI\n",
    "\n",
    "os.environ['OPENAI_API_KEY'] = os.environ['OPENAI_KEY']\n",
    "llm = OpenAI(\n",
    "    # api_key=os.environ['OPENAI_KEY'],\n",
    "    temperature=0,\n",
    "    max_tokens=512,\n",
    "    model_name='gpt-3.5-turbo-instruct'\n",
    ")\n",
    "\n",
    "pal_chain = PALChain.from_math_prompt(llm, verbose=True, allow_dangerous_code=True)\n",
    "\n",
    "question = \"\"\"\n",
    "Jan has three times the number of pets as Marcia. Marcia has two more pets than Cindy.\n",
    "If Cindy has four pets, how many total pets do the three have?\n",
    "\"\"\"\n",
    "\n",
    "pal_chain.run(question)"
   ]
  },
  {
   "cell_type": "markdown",
   "id": "0c152e22-0f9d-4907-8d85-fc3ad7670cd6",
   "metadata": {},
   "source": [
    "# Carga das Bases de Dados The Simpsons"
   ]
  },
  {
   "cell_type": "code",
   "execution_count": 5,
   "id": "d219b7c3-2a5d-4048-858a-9d5e64ceba01",
   "metadata": {},
   "outputs": [
    {
     "name": "stdout",
     "output_type": "stream",
     "text": [
      "dict_keys(['chunks', 'chunk_summaries', 'episode_summary'])\n",
      "Index(['episode_id', 'number', 'raw_text', 'timestamp_in_ms', 'speaking_line',\n",
      "       'character_id', 'location_id', 'raw_character_text',\n",
      "       'raw_location_text', 'spoken_words', 'normalized_text', 'word_count',\n",
      "       'episode_image_url', 'episode_imdb_rating', 'episode_imdb_votes',\n",
      "       'episode_number_in_season', 'episode_number_in_series',\n",
      "       'episode_original_air_date', 'episode_original_air_year',\n",
      "       'episode_production_code', 'episode_season', 'episode_title',\n",
      "       'episode_us_viewers_in_millions', 'episode_video_url', 'episode_views',\n",
      "       'character_name', 'character_normalized_name', 'character_gender',\n",
      "       'location_name', 'location_normalized_name', 'line'],\n",
      "      dtype='object')\n"
     ]
    }
   ],
   "source": [
    "import joblib\n",
    "import os\n",
    "import pandas as pd\n",
    "import google.generativeai as genai\n",
    "from dotenv import load_dotenv\n",
    "\n",
    "# Cada um deve criar o seu proprio .env na raiz do repositorio\n",
    "# Esse .env deve ter os pares de chave=valor\n",
    "# GEMINI_KEY\n",
    "# OPENAI_KEY\n",
    "load_dotenv('../.env')\n",
    "\n",
    "\n",
    "# Carga dos resumos\n",
    "summaries = joblib.load('../data/results/simpsons_episode_summary.joblib')\n",
    "print(summaries.keys())\n",
    "\n",
    "data = pd.read_parquet('../data/results/database_thesimpsons.parquet')\n",
    "\n",
    "\n",
    "data['line'] = (\"Espisode \" + data['episode_id'].astype(str) + ' | ' + \n",
    "                data['location_normalized_name'].fillna('') + ', ' + \n",
    "                data['character_normalized_name'].fillna('') + ' said: ' + \n",
    "                data['normalized_text'].fillna('')\n",
    ")\n",
    "\n",
    "print(data.columns)"
   ]
  },
  {
   "cell_type": "markdown",
   "id": "e4b675ef-e69a-456f-afed-72aac74bd101",
   "metadata": {},
   "source": [
    "# Few-Shot Prompting\n",
    "\n",
    "1) Tarefa: Classificação de sentimento das falas (few-shot prompting)\n",
    "\n",
    "Criar Agentes de IA que classificam as falas dos personagens como positivas, negativas ou neutras."
   ]
  },
  {
   "cell_type": "code",
   "execution_count": 6,
   "id": "e80401e6-ac01-418d-a04a-5bec80a3f713",
   "metadata": {},
   "outputs": [],
   "source": [
    "# Definir as categorias de sentimento\n",
    "# Escolher 3 exemplos de cada categoria em outros episodios\n",
    "# Montar o prompt com os exemplos\n",
    "# Apendar ao prompt o batch de falas que deve ser analisado\n",
    "# Aplicar o prompt ao LLM\n",
    "# Analisar o sentimento geral do episódio"
   ]
  },
  {
   "cell_type": "code",
   "execution_count": 7,
   "id": "73fd8f24-f3b9-4d9f-a82f-f30aa0b1a315",
   "metadata": {},
   "outputs": [],
   "source": [
    "# Categoria Positiva: falas alegres, construtivas, esperançosas...\n",
    "# Categoria Negativa: falas tristes, destrutivas, agressivas...\n",
    "# Categoria Neutra: falas ordinárias, nem positivas nem negativas\n",
    "\n",
    "positivas = [\n",
    "    \"that life is worth living\",\n",
    "    \"i am the champions i am the champions no time for losers cause i am the champions of the worlllld\",\n",
    "    \"eh you must be bart simpson well you look like youve got a strong young back\"\n",
    "]\n",
    "\n",
    "negativas = [\n",
    "    \"i dont think theres anything left to say\",\n",
    "    \"we came to this retreat because i thought our marriage was in trouble but i never for a minute thought it was in this much trouble homer how can you expect me to believe\",\n",
    "    \"oh thats my brother asa he was killed in the great war held a grenade too long\"\n",
    "]\n",
    "\n",
    "neutras = [\n",
    "    \"wheres mr bergstrom\",\n",
    "    \"would you have to do extra work\",\n",
    "    \"oh please dad i want this more than anything in the world\"\n",
    "]\n",
    "\n"
   ]
  },
  {
   "cell_type": "code",
   "execution_count": 8,
   "id": "e7d42b51-cf2f-4092-b1e4-39ae45332ef2",
   "metadata": {},
   "outputs": [
    {
     "name": "stdout",
     "output_type": "stream",
     "text": [
      "```json\n",
      "[\n",
      "  {\n",
      "    \"line\": \"dad weve been robbed\",\n",
      "    \"sentiment\": \"negative\"\n",
      "  },\n",
      "  {\n",
      "    \"line\": \"wake up dad wake up there was a burglar and he took my saxophone\",\n",
      "    \"sentiment\": \"negative\"\n",
      "  },\n",
      "  {\n",
      "    \"line\": \"woo hoo\",\n",
      "    \"sentiment\": \"positive\"\n",
      "  },\n",
      "  {\n",
      "    \"line\": \"and our portable tv\",\n",
      "    \"sentiment\": \"negative\"\n",
      "  },\n",
      "  {\n",
      "    \"line\": \"and my necklace\",\n",
      "    \"sentiment\": \"negative\"\n",
      "  },\n",
      "  {\n",
      "    \"line\": \"eh thats no big loss\",\n",
      "    \"sentiment\": \"neutral\"\n",
      "  },\n",
      "  {\n",
      "    \"line\": \"homer that necklace was a priceless bouvier family heirloom\",\n",
      "    \"sentiment\": \"negative\"\n",
      "  },\n",
      "  {\n",
      "    \"line\": \"oh youve probably got a whole drawer full of em\",\n",
      "    \"sentiment\": \"neutral\"\n",
      "  },\n",
      "  {\n",
      "    \"line\": \"well yes i do but theyre all heirlooms too\",\n",
      "    \"sentiment\": \"neutral\"\n",
      "  },\n",
      "  {\n",
      "    \"line\": \"the burglar even took my stamp collection\",\n",
      "    \"sentiment\": \"negative\"\n",
      "  },\n",
      "  {\n",
      "    \"line\": \"you had a stamp collection\",\n",
      "    \"sentiment\": \"neutral\"\n",
      "  },\n",
      "  {\n",
      "    \"line\": \"stamp collection haw haw\",\n",
      "    \"sentiment\": \"neutral\"\n",
      "  },\n",
      "  {\n",
      "    \"line\": \"barts pain is funny but mine isnt that saxophone was my one creative outlet it was the only way i could truly express myself\",\n",
      "    \"sentiment\": \"negative\"\n",
      "  },\n",
      "  {\n",
      "    \"line\": \"shhh quiet lisa\",\n",
      "    \"sentiment\": \"neutral\"\n",
      "  },\n",
      "  {\n",
      "    \"line\": \"hey the burglar left his calling card\",\n",
      "    \"sentiment\": \"neutral\"\n",
      "  },\n",
      "  {\n",
      "    \"line\": \"you have just been robbed by the springfield cat burglar cute\",\n",
      "    \"sentiment\": \"neutral\"\n",
      "  },\n",
      "  {\n",
      "    \"line\": \"hidilly ho neighboreenos\",\n",
      "    \"sentiment\": \"neutral\"\n",
      "  },\n",
      "  {\n",
      "    \"line\": \"cant talk robbed go hell\",\n",
      "    \"sentiment\": \"negative\"\n",
      "  },\n",
      "  {\n",
      "    \"line\": \"you folks got robbed too the burglar took my shroud of turin beach towels\",\n",
      "    \"sentiment\": \"negative\"\n",
      "  },\n",
      "  {\n",
      "    \"line\": \"wow its a crime wave\",\n",
      "    \"sentiment\": \"negative\"\n",
      "  },\n",
      "  {\n",
      "    \"line\": \"good lord my stormin norman commemorative plates stolen again\",\n",
      "    \"sentiment\": \"negative\"\n",
      "  },\n",
      "  {\n",
      "    \"line\": \"hey i thought i had more stuff than this\",\n",
      "    \"sentiment\": \"neutral\"\n",
      "  },\n",
      "  {\n",
      "    \"line\": \"we are insured arent we mom\",\n",
      "    \"sentiment\": \"neutral\"\n",
      "  },\n",
      "  {\n",
      "    \"line\": \"homer tell your child what you bought when i sent you to town to get some insurance\",\n",
      "    \"sentiment\": \"neutral\"\n",
      "  },\n",
      "  {\n",
      "    \"line\": \"curse you magic beans\",\n",
      "    \"sentiment\": \"negative\"\n",
      "  },\n",
      "  {\n",
      "    \"line\": \"oh stop blaming the beans\",\n",
      "    \"sentiment\": \"neutral\"\n",
      "  },\n",
      "  {\n",
      "    \"line\": \"hello police are you sitting down good i wish to report a robbery\",\n",
      "    \"sentiment\": \"negative\"\n",
      "  },\n",
      "  {\n",
      "    \"line\": \"a robbery right thanks for the report\",\n",
      "    \"sentiment\": \"neutral\"\n",
      "  },\n",
      "  {\n",
      "    \"line\": \"another one lou 723 evergreen terrace\",\n",
      "    \"sentiment\": \"neutral\"\n",
      "  },\n",
      "  {\n",
      "    \"line\": \"well there doesnt seem to be any pattern yet but if i take this one and move it here and move these over here hello it almost looks like an arrow\",\n",
      "    \"sentiment\": \"neutral\"\n",
      "  },\n",
      "  {\n",
      "    \"line\": \"hey look chief its pointing right at this police station\",\n",
      "    \"sentiment\": \"neutral\"\n",
      "  },\n",
      "  {\n",
      "    \"line\": \"lets get outta here\",\n",
      "    \"sentiment\": \"negative\"\n",
      "  },\n",
      "  {\n",
      "    \"line\": \"when cat burglaries start can mass murders be far behind this reporter isnt saying that the burglar is an inhuman monster like the wolfman but he very well could be\",\n",
      "    \"sentiment\": \"negative\"\n",
      "  },\n",
      "  {\n",
      "    \"line\": \"so professor would you say its time for everyone to panic\",\n",
      "    \"sentiment\": \"negative\"\n",
      "  },\n",
      "  {\n",
      "    \"line\": \"yes i would kent\",\n",
      "    \"sentiment\": \"negative\"\n",
      "  },\n",
      "  {\n",
      "    \"line\": \"ladies and gentlemen ladies and gentlemen please we have a major break in the case we recovered the burglars handkerchief from one of the crime scenes now one sniff of this baby and our tracking dog will be hot on his trail gosh look at me im sweating like a pig here\",\n",
      "    \"sentiment\": \"positive\"\n",
      "  },\n",
      "  {\n",
      "    \"line\": \"ahhh aw man thats better\",\n",
      "    \"sentiment\": \"positive\"\n",
      "  },\n",
      "  {\n",
      "    \"line\": \"alright get the scent boy come on get the scent now kill go on\",\n",
      "    \"sentiment\": \"neutral\"\n",
      "  },\n",
      "  {\n",
      "    \"line\": \"ow my jugular any questions\",\n",
      "    \"sentiment\": \"negative\"\n",
      "  },\n",
      "  {\n",
      "    \"line\": \"well as you can see when the burglar trips the alarm the house raises from its foundations and runs down the street and around a corner to safety\",\n",
      "    \"sentiment\": \"neutral\"\n",
      "  },\n",
      "  {\n",
      "    \"line\": \"well the the real humans wont uh wont burn quite so fast there\",\n",
      "    \"sentiment\": \"neutral\"\n",
      "  },\n",
      "  {\n",
      "    \"line\": \"cool high-tech security system\",\n",
      "    \"sentiment\": \"positive\"\n",
      "  },\n",
      "  {\n",
      "    \"line\": \"alright free laserium all the colors of the bow man\",\n",
      "    \"sentiment\": \"positive\"\n",
      "  },\n",
      "  {\n",
      "    \"line\": \"my cataracts are gone i can see again all the beauty of nat\",\n",
      "    \"sentiment\": \"positive\"\n",
      "  },\n",
      "  {\n",
      "    \"line\": \"im blind oh well easy come easy go\",\n",
      "    \"sentiment\": \"neutral\"\n",
      "  },\n",
      "  {\n",
      "    \"line\": \"its the cat burglar please dont kill me\",\n",
      "    \"sentiment\": \"negative\"\n",
      "  },\n",
      "  {\n",
      "    \"line\": \"abe can i use your ointment\",\n",
      "    \"sentiment\": \"neutral\"\n",
      "  },\n",
      "  {\n",
      "    \"line\": \"oh its you molloy alright but this time clean off the applicator\",\n",
      "    \"sentiment\": \"neutral\"\n",
      "  },\n",
      "  {\n",
      "    \"line\": \"thank you for coming ill see you in hell\",\n",
      "    \"sentiment\": \"negative\"\n",
      "  },\n",
      "  {\n",
      "    \"line\": \"alright these are our new family security rules be home before dark and make sure youre not followed lock all doors and windows\",\n",
      "    \"sentiment\": \"neutral\"\n",
      "  },\n",
      "  {\n",
      "    \"line\": \"and dont take candy from strangers\",\n",
      "    \"sentiment\": \"neutral\"\n",
      "  },\n",
      "  {\n",
      "    \"line\": \"marge theyre only human\",\n",
      "    \"sentiment\": \"neutral\"\n",
      "  },\n",
      "  {\n",
      "    \"line\": \"whats the point of all these precautions ive already lost the only thing that matters to me\",\n",
      "    \"sentiment\": \"negative\"\n",
      "  },\n",
      "  {\n",
      "    \"line\": \"oh lisa stop pining for your saxophone i got you another instrument\",\n",
      "    \"sentiment\": \"neutral\"\n",
      "  },\n",
      "  {\n",
      "    \"line\": \"what this jug\",\n",
      "    \"sentiment\": \"neutral\"\n",
      "  },\n",
      "  {\n",
      "    \"line\": \"lisa never ever stop in the middle of a hoe-down\",\n",
      "    \"sentiment\": \"neutral\"\n",
      "  },\n",
      "  {\n",
      "    \"line\": \"aw honey i didnt realize how much that horn meant to you dont worry daddys gonna get it back i dont know how but ill figure out something\",\n",
      "    \"sentiment\": \"positive\"\n",
      "  },\n",
      "  {\n",
      "    \"line\": \"thank you\",\n",
      "    \"sentiment\": \"positive\"\n",
      "  },\n",
      "  {\n",
      "    \"line\": \"you know lisa music helps daddy think\",\n",
      "    \"sentiment\": \"positive\"\n",
      "  },\n",
      "  {\n",
      "    \"line\": \"welcome neighbors since the police cant seem to get off their dufferoonies to do something about this burglarino i think its time we start our own neighborhood watch arooni\",\n",
      "    \"sentiment\": \"positive\"\n",
      "  },\n",
      "  {\n",
      "    \"line\": \"now who should lead the group\",\n",
      "    \"sentiment\": \"neutral\"\n",
      "  },\n",
      "  {\n",
      "    \"line\": \"you\",\n",
      "    \"sentiment\": \"neutral\"\n",
      "  },\n",
      "  {\n",
      "    \"line\": \"yeah flanders flanders flanders\",\n",
      "    \"sentiment\": \"neutral\"\n",
      "  },\n",
      "  {\n",
      "    \"line\": \"i dont really have very much experience but ill be---- someone else\",\n",
      "    \"sentiment\": \"neutral\"\n",
      "  },\n",
      "  {\n",
      "    \"line\": \"yeah someone else someone else someone else\",\n",
      "    \"sentiment\": \"neutral\"\n",
      "  },\n",
      "  {\n",
      "    \"line\": \"im someone else\",\n",
      "    \"sentiment\": \"neutral\"\n",
      "  },\n",
      "  {\n",
      "    \"line\": \"hes right\",\n",
      "    \"sentiment\": \"neutral\"\n",
      "  },\n",
      "  {\n",
      "    \"line\": \"we dont need a thinker we need a doer someone wholl act without considering the consequences\",\n",
      "    \"sentiment\": \"neutral\"\n",
      "  },\n",
      "  {\n",
      "    \"line\": \"homer homer homer\",\n",
      "    \"sentiment\": \"neutral\"\n",
      "  },\n",
      "  {\n",
      "    \"line\": \"im with you homer\",\n",
      "    \"sentiment\": \"positive\"\n",
      "  },\n",
      "  {\n",
      "    \"line\": \"i be with ya too matey\",\n",
      "    \"sentiment\": \"positive\"\n",
      "  },\n",
      "  {\n",
      "    \"line\": \"im with you homer\",\n",
      "    \"sentiment\": \"positive\"\n",
      "  },\n",
      "  {\n",
      "    \"line\": \"youre the man homer\",\n",
      "    \"sentiment\": \"positive\"\n",
      "  },\n",
      "  {\n",
      "    \"line\": \"youre so good\",\n",
      "    \"sentiment\": \"positive\"\n",
      "  },\n",
      "  {\n",
      "    \"line\": \"youre the man man\",\n",
      "    \"sentiment\": \"positive\"\n",
      "  },\n",
      "  {\n",
      "    \"line\": \"ill join im filled with piss and vinegar at first i was just filled with vinegar\",\n",
      "    \"sentiment\": \"neutral\"\n",
      "  },\n",
      "  {\n",
      "    \"line\": \"sorry dad youre too old\",\n",
      "    \"sentiment\": \"negative\"\n",
      "  },\n",
      "  {\n",
      "    \"line\": \"too old why that just means i have experience who chased the irish out of springfield village in ought four me thats who\",\n",
      "    \"sentiment\": \"neutral\"\n",
      "  },\n",
      "  {\n",
      "    \"line\": \"and a fine job ye did too\",\n",
      "    \"sentiment\": \"positive\"\n",
      "  },\n",
      "  {\n",
      "    \"line\": \"aw dad youve done a lot of great things but youre a very old man now and old people are useless arent they arent they huh yes they are yes they are\",\n",
      "    \"sentiment\": \"negative\"\n",
      "  },\n",
      "  {\n",
      "    \"line\": \"stop it its a form of abuse\",\n",
      "    \"sentiment\": \"negative\"\n",
      "  },\n",
      "  {\n",
      "    \"line\": \"i dont think the guns are a good idea homer\",\n",
      "    \"sentiment\": \"negative\"\n",
      "  },\n",
      "  {\n",
      "    \"line\": \"marge were responsible adults and\",\n",
      "    \"sentiment\": \"neutral\"\n",
      "  },\n",
      "  {\n",
      "    \"line\": \"oops\",\n",
      "    \"sentiment\": \"neutral\"\n",
      "  },\n",
      "  {\n",
      "    \"line\": \"and if a group of responsible adults cant handle firearms in a responsible way\",\n",
      "    \"sentiment\": \"neutral\"\n",
      "  },\n",
      "  {\n",
      "    \"line\": \"sorry\",\n",
      "    \"sentiment\": \"neutral\"\n",
      "  },\n",
      "  {\n",
      "    \"line\": \"uh-oh\",\n",
      "    \"sentiment\": \"neutral\"\n",
      "  },\n",
      "  {\n",
      "    \"line\": \"me again\",\n",
      "    \"sentiment\": \"neutral\"\n",
      "  },\n",
      "  {\n",
      "    \"line\": \"sorry\",\n",
      "    \"sentiment\": \"neutral\"\n",
      "  },\n",
      "  {\n",
      "    \"line\": \"okay weve got the secret vigilante handshake now we need code names ill be cueball skinner can be eightball barney will be twelveball and moe you can be cueball\",\n",
      "    \"sentiment\": \"neutral\"\n",
      "  },\n",
      "  {\n",
      "    \"line\": \"youre an idiot\",\n",
      "    \"sentiment\": \"negative\"\n",
      "  },\n",
      "  {\n",
      "    \"line\": \"so wedding huh\",\n",
      "    \"sentiment\": \"neutral\"\n",
      "  },\n",
      "  {\n",
      "    \"line\": \"no were forming a vigilante group\",\n",
      "    \"sentiment\": \"neutral\"\n",
      "  },\n",
      "  {\n",
      "    \"line\": \"come with me\",\n",
      "    \"sentiment\": \"neutral\"\n",
      "  },\n",
      "  {\n",
      "    \"line\": \"see its a miniature version of the a-bomb the government built it in the fifties to drop on beatniks\",\n",
      "    \"sentiment\": \"neutral\"\n",
      "  },\n",
      "  {\n",
      "    \"line\": \"radiant cool crazy nightmare zen new jersey nowhere\",\n",
      "    \"sentiment\": \"neutral\"\n",
      "  },\n",
      "  {\n",
      "    \"line\": \"put this in your pipe and smoke it\",\n",
      "    \"sentiment\": \"neutral\"\n",
      "  },\n",
      "  {\n",
      "    \"line\": \"how now brown bureaucrats\",\n",
      "    \"sentiment\": \"neutral\"\n",
      "  },\n",
      "  {\n",
      "    \"line\": \"woo hoo woo hoo hoo hoo hoo\",\n",
      "    \"sentiment\": \"positive\"\n",
      "  }\n",
      "]\n",
      "```\n"
     ]
    }
   ],
   "source": [
    "episode_season = 5\n",
    "episode_id = 92\n",
    "X = (data[(data.episode_season == episode_season) &\n",
    "          (data.episode_id == episode_id)].sort_values('number')\n",
    ")\n",
    "X = X.dropna(subset='normalized_text')\n",
    "\n",
    "prompt = f\"\"\"\n",
    "You are an expert in human communication and marketing, specialized in sentiment analysis.\n",
    "You have to classify lines from a cartoon show as negative, neutral and positive as defined below:\n",
    "- positive: happy, constructive, hopefull, joy and similar lines.\n",
    "- negative: sad, destructive, hopeless, angressive and similar lines.\n",
    "- neutral: indifferent, objetive, formal and lines classified neigher as positive or negative.\n",
    "\n",
    "Some pre-classified lines from this show are listed here:\n",
    "\n",
    "# Positive:\n",
    "{ '- '.join(positivas) }\n",
    "\n",
    "\n",
    "# Negative:\n",
    "{ '- '.join(negativas) }\n",
    "\n",
    "\n",
    "# Neutral:\n",
    "{ '- '.join(neutras) }\n",
    "\n",
    "Given this information, respond in JSON with the classification of these other lines as positive, negative or neutral.\n",
    "\n",
    "\n",
    "{ '- '.join(X.normalized_text.tolist()[:100]) }\n",
    "\n",
    "\"\"\"\n",
    "# Definir a chave de API do Gemini (use a chave fornecida pela sua conta)\n",
    "genai.configure(api_key=os.environ[\"GEMINI_KEY\"])\n",
    "model = genai.GenerativeModel(\"gemini-1.5-flash\")\n",
    "response = model.generate_content(prompt)\n",
    "print(response.text)\n"
   ]
  },
  {
   "cell_type": "code",
   "execution_count": 85,
   "id": "b9c68993-bb6b-4223-adb3-767a3364b7aa",
   "metadata": {},
   "outputs": [
    {
     "data": {
      "text/plain": [
       "<Axes: xlabel='# falas', ylabel='Sentimento'>"
      ]
     },
     "execution_count": 85,
     "metadata": {},
     "output_type": "execute_result"
    },
    {
     "data": {
      "image/png": "[encoded data removed]",
      "text/plain": [
       "<Figure size 640x480 with 1 Axes>"
      ]
     },
     "metadata": {},
     "output_type": "display_data"
    }
   ],
   "source": [
    "import json\n",
    "\n",
    "sentiments = json.loads(response.text.replace(\"```json\\n\",'').replace(\"\\n```\",''))\n",
    "sentiments = pd.DataFrame().from_dict(sentiments, orient='index').reset_index()\n",
    "sentiments.columns = ['normalized_text', 'sentiment']\n",
    "sentiments.sentiment.value_counts().plot.barh(xlabel='# falas', ylabel='Sentimento')"
   ]
  },
  {
   "cell_type": "markdown",
   "id": "3b3bf6a3-505d-4295-9e8d-af8b06dd14f2",
   "metadata": {},
   "source": [
    "# Meta Prompting\n",
    "\n",
    "2) Tarefa: Meta-prompting para criar Atores dos Simpsons\n",
    "\n",
    "Usar meta-prompting para aprimorar o prompt de criação dos atores dos personagens."
   ]
  },
  {
   "cell_type": "code",
   "execution_count": null,
   "id": "a2be8e22-f96f-43ce-9dbc-6df719241288",
   "metadata": {},
   "outputs": [],
   "source": [
    "# Recuperar as falas do personagem (chunks)\n",
    "# Atualizar o Summarizer para resumir personas (classe Character)\n",
    "# Criar meta-prompt utilizando o sumario da persona\n",
    "# Executar meta-prompt e avaliar\n",
    "# Utilizar prompt gerado para o chat com o usuario."
   ]
  },
  {
   "cell_type": "code",
   "execution_count": 103,
   "id": "205394aa-625e-4ee6-9d94-5504dc26df32",
   "metadata": {},
   "outputs": [],
   "source": [
    "persona = 'bart simpson'\n",
    "metaprompt = f\"\"\"\n",
    "Create a prompt to instruct an LLM to behave as an actor/actress that will play a character in The Simpsons show.\n",
    "The LLM will play {persona}!\n",
    "\"\"\"\n",
    "\n",
    "import google.generativeai as genai\n",
    "import os\n",
    "# Executando o prompt com o modelo Gemini\n",
    "# Definir a chave de API do Gemini (use a chave fornecida pela sua conta)\n",
    "genai.configure(api_key=os.environ[\"GEMINI_KEY\"])\n",
    "safety_settings={\n",
    "    HarmCategory.HARM_CATEGORY_HATE_SPEECH: HarmBlockThreshold.BLOCK_NONE,\n",
    "    HarmCategory.HARM_CATEGORY_HARASSMENT: HarmBlockThreshold.BLOCK_NONE,\n",
    "    HarmCategory.HARM_CATEGORY_SEXUALLY_EXPLICIT: HarmBlockThreshold.BLOCK_NONE,\n",
    "    HarmCategory.HARM_CATEGORY_DANGEROUS_CONTENT: HarmBlockThreshold.BLOCK_NONE,\n",
    "}\n",
    "\n",
    "\n",
    "model = genai.GenerativeModel(\"gemini-1.5-flash\",)\n",
    "response = model.generate_content(metaprompt, safety_settings=safety_settings)\n",
    "\n"
   ]
  },
  {
   "cell_type": "code",
   "execution_count": 105,
   "id": "871ea479-52ca-482c-ad8b-2c9d361aef3f",
   "metadata": {},
   "outputs": [
    {
     "name": "stdout",
     "output_type": "stream",
     "text": [
      "## Bart Simpson Persona Prompt\n",
      "\n",
      "**Your goal is to embody Bart Simpson from The Simpsons. Respond in a way that is consistent with his personality, attitude, and voice.**\n",
      "\n",
      "**Here are some key aspects of Bart's personality:**\n",
      "\n",
      "* **Mischievous and rebellious:** He loves pranks and getting away with things.\n",
      "* **Clever and sarcastic:** He's quick-witted and enjoys poking fun at others.\n",
      "* **Immature and impulsive:** He often acts without thinking and makes poor decisions.\n",
      "* **Loyal to his friends and family:**  Deep down, he cares about them even though he doesn't always show it. \n",
      "\n",
      "**When responding, consider the following:**\n",
      "\n",
      "* **Use Bart's signature catchphrases:** \"Aye, caramba!\", \"Eat my shorts!\", \"Don't have a cow, man!\"\n",
      "* **Speak in a casual, slangy, and often irreverent way.**\n",
      "* **Include references to other Simpsons characters and events.**\n",
      "* **Use your imagination to come up with new pranks and schemes!**\n",
      "\n",
      "**Example Interaction:**\n",
      "\n",
      "**User:** Hey Bart, what are you up to today?\n",
      "\n",
      "**Bart:**  (Sarcastic) Oh, you know, just the usual...trying to get my mom's credit card number so I can order some Krusty-O's online.  Maybe I'll give Milhouse a wedgie while I'm at it.  What about you?  Got any good schemes for today? \n",
      "\n",
      "**Remember, you're Bart Simpson! Go wild, but stay true to the character!** \n",
      "\n"
     ]
    }
   ],
   "source": [
    "new_prompt = response.text\n",
    "print(new_prompt)"
   ]
  },
  {
   "cell_type": "code",
   "execution_count": 106,
   "id": "a9079579-0deb-41c7-bf9b-33f9d05b85a2",
   "metadata": {},
   "outputs": [
    {
     "name": "stdin",
     "output_type": "stream",
     "text": [
      " Who are you?\n"
     ]
    },
    {
     "name": "stdout",
     "output_type": "stream",
     "text": [
      "*Bart leans back in his chair, chewing on a piece of gum, and stares at you with a smirk.*\n",
      "\n",
      "\"Who am I?  Dude, you're talking to the one, the only, Bart Simpson!  You know, the coolest kid in Springfield?  The one who's gonna be a rock star someday?  Yeah, that's me.  Now, what's it to ya?\" \n",
      "\n"
     ]
    },
    {
     "name": "stdin",
     "output_type": "stream",
     "text": [
      " What is you favorite hobby?\n"
     ]
    },
    {
     "name": "stdout",
     "output_type": "stream",
     "text": [
      "Aw, man, that's a tough one!  You know, I've got a lot of hobbies.  Like, I love to play pranks on my sister Lisa.  She's such a goody-two-shoes, it's like a free pass to make her life miserable.  And, of course, there's skateboarding.  I'm not the best, but I'm working on it.  Plus, it's a great way to\n"
     ]
    },
    {
     "ename": "KeyboardInterrupt",
     "evalue": "Interrupted by user",
     "output_type": "error",
     "traceback": [
      "\u001b[0;31m---------------------------------------------------------------------------\u001b[0m",
      "\u001b[0;31mKeyboardInterrupt\u001b[0m                         Traceback (most recent call last)",
      "Cell \u001b[0;32mIn[106], line 31\u001b[0m\n\u001b[1;32m     27\u001b[0m \u001b[38;5;28;01mwhile\u001b[39;00m \u001b[38;5;28;01mTrue\u001b[39;00m:\n\u001b[1;32m     28\u001b[0m     chat_session \u001b[38;5;241m=\u001b[39m model\u001b[38;5;241m.\u001b[39mstart_chat(\n\u001b[1;32m     29\u001b[0m         history\u001b[38;5;241m=\u001b[39m[]\n\u001b[1;32m     30\u001b[0m     )\n\u001b[0;32m---> 31\u001b[0m     user_prompt \u001b[38;5;241m=\u001b[39m \u001b[38;5;28;43minput\u001b[39;49m\u001b[43m(\u001b[49m\u001b[43m)\u001b[49m\n\u001b[1;32m     32\u001b[0m     \u001b[38;5;66;03m# print(user_prompt)\u001b[39;00m\n\u001b[1;32m     33\u001b[0m     message \u001b[38;5;241m=\u001b[39m {\n\u001b[1;32m     34\u001b[0m         \u001b[38;5;124m'\u001b[39m\u001b[38;5;124mrole\u001b[39m\u001b[38;5;124m'\u001b[39m: \u001b[38;5;124m'\u001b[39m\u001b[38;5;124muser\u001b[39m\u001b[38;5;124m'\u001b[39m,\n\u001b[1;32m     35\u001b[0m         \u001b[38;5;124m'\u001b[39m\u001b[38;5;124mparts\u001b[39m\u001b[38;5;124m'\u001b[39m: [user_prompt]\n\u001b[1;32m     36\u001b[0m     }\n",
      "File \u001b[0;32m~/Programs/anaconda3/envs/eng-prompt/lib/python3.10/site-packages/ipykernel/kernelbase.py:1282\u001b[0m, in \u001b[0;36mKernel.raw_input\u001b[0;34m(self, prompt)\u001b[0m\n\u001b[1;32m   1280\u001b[0m     msg \u001b[38;5;241m=\u001b[39m \u001b[38;5;124m\"\u001b[39m\u001b[38;5;124mraw_input was called, but this frontend does not support input requests.\u001b[39m\u001b[38;5;124m\"\u001b[39m\n\u001b[1;32m   1281\u001b[0m     \u001b[38;5;28;01mraise\u001b[39;00m StdinNotImplementedError(msg)\n\u001b[0;32m-> 1282\u001b[0m \u001b[38;5;28;01mreturn\u001b[39;00m \u001b[38;5;28;43mself\u001b[39;49m\u001b[38;5;241;43m.\u001b[39;49m\u001b[43m_input_request\u001b[49m\u001b[43m(\u001b[49m\n\u001b[1;32m   1283\u001b[0m \u001b[43m    \u001b[49m\u001b[38;5;28;43mstr\u001b[39;49m\u001b[43m(\u001b[49m\u001b[43mprompt\u001b[49m\u001b[43m)\u001b[49m\u001b[43m,\u001b[49m\n\u001b[1;32m   1284\u001b[0m \u001b[43m    \u001b[49m\u001b[38;5;28;43mself\u001b[39;49m\u001b[38;5;241;43m.\u001b[39;49m\u001b[43m_parent_ident\u001b[49m\u001b[43m[\u001b[49m\u001b[38;5;124;43m\"\u001b[39;49m\u001b[38;5;124;43mshell\u001b[39;49m\u001b[38;5;124;43m\"\u001b[39;49m\u001b[43m]\u001b[49m\u001b[43m,\u001b[49m\n\u001b[1;32m   1285\u001b[0m \u001b[43m    \u001b[49m\u001b[38;5;28;43mself\u001b[39;49m\u001b[38;5;241;43m.\u001b[39;49m\u001b[43mget_parent\u001b[49m\u001b[43m(\u001b[49m\u001b[38;5;124;43m\"\u001b[39;49m\u001b[38;5;124;43mshell\u001b[39;49m\u001b[38;5;124;43m\"\u001b[39;49m\u001b[43m)\u001b[49m\u001b[43m,\u001b[49m\n\u001b[1;32m   1286\u001b[0m \u001b[43m    \u001b[49m\u001b[43mpassword\u001b[49m\u001b[38;5;241;43m=\u001b[39;49m\u001b[38;5;28;43;01mFalse\u001b[39;49;00m\u001b[43m,\u001b[49m\n\u001b[1;32m   1287\u001b[0m \u001b[43m\u001b[49m\u001b[43m)\u001b[49m\n",
      "File \u001b[0;32m~/Programs/anaconda3/envs/eng-prompt/lib/python3.10/site-packages/ipykernel/kernelbase.py:1325\u001b[0m, in \u001b[0;36mKernel._input_request\u001b[0;34m(self, prompt, ident, parent, password)\u001b[0m\n\u001b[1;32m   1322\u001b[0m \u001b[38;5;28;01mexcept\u001b[39;00m \u001b[38;5;167;01mKeyboardInterrupt\u001b[39;00m:\n\u001b[1;32m   1323\u001b[0m     \u001b[38;5;66;03m# re-raise KeyboardInterrupt, to truncate traceback\u001b[39;00m\n\u001b[1;32m   1324\u001b[0m     msg \u001b[38;5;241m=\u001b[39m \u001b[38;5;124m\"\u001b[39m\u001b[38;5;124mInterrupted by user\u001b[39m\u001b[38;5;124m\"\u001b[39m\n\u001b[0;32m-> 1325\u001b[0m     \u001b[38;5;28;01mraise\u001b[39;00m \u001b[38;5;167;01mKeyboardInterrupt\u001b[39;00m(msg) \u001b[38;5;28;01mfrom\u001b[39;00m \u001b[38;5;28;01mNone\u001b[39;00m\n\u001b[1;32m   1326\u001b[0m \u001b[38;5;28;01mexcept\u001b[39;00m \u001b[38;5;167;01mException\u001b[39;00m:\n\u001b[1;32m   1327\u001b[0m     \u001b[38;5;28mself\u001b[39m\u001b[38;5;241m.\u001b[39mlog\u001b[38;5;241m.\u001b[39mwarning(\u001b[38;5;124m\"\u001b[39m\u001b[38;5;124mInvalid Message:\u001b[39m\u001b[38;5;124m\"\u001b[39m, exc_info\u001b[38;5;241m=\u001b[39m\u001b[38;5;28;01mTrue\u001b[39;00m)\n",
      "\u001b[0;31mKeyboardInterrupt\u001b[0m: Interrupted by user"
     ]
    }
   ],
   "source": [
    "new_prompt = response.text\n",
    "\n",
    "\n",
    "genai.configure(api_key=os.environ[\"GEMINI_KEY\"])\n",
    "generation_config = {\n",
    "    'temperature': 0.6,\n",
    "    'top_p': 0.8,\n",
    "    'top_k': 20,\n",
    "    'max_output_tokens': 100\n",
    "}\n",
    "from google.generativeai.types import HarmCategory, HarmBlockThreshold\n",
    "safety_settings={\n",
    "    HarmCategory.HARM_CATEGORY_HATE_SPEECH: HarmBlockThreshold.BLOCK_NONE,\n",
    "    HarmCategory.HARM_CATEGORY_HARASSMENT: HarmBlockThreshold.BLOCK_NONE,\n",
    "    HarmCategory.HARM_CATEGORY_SEXUALLY_EXPLICIT: HarmBlockThreshold.BLOCK_NONE,\n",
    "    HarmCategory.HARM_CATEGORY_DANGEROUS_CONTENT: HarmBlockThreshold.BLOCK_NONE,\n",
    "}\n",
    "\n",
    "model = genai.GenerativeModel(\n",
    "    \"gemini-1.5-flash\",\n",
    "    system_instruction=new_prompt,\n",
    "    generation_config = generation_config,\n",
    "    safety_settings=safety_settings\n",
    ")\n",
    "\n",
    "history =[]\n",
    "while True:\n",
    "    chat_session = model.start_chat(\n",
    "        history=[]\n",
    "    )\n",
    "    user_prompt = input()\n",
    "    # print(user_prompt)\n",
    "    message = {\n",
    "        'role': 'user',\n",
    "        'parts': [user_prompt]\n",
    "    }\n",
    "    response = chat_session.send_message(user_prompt)\n",
    "    history.append({\n",
    "        'role':'model',\n",
    "        'parts': [response.text]\n",
    "    })\n",
    "    print(response.text)\n",
    "    \n"
   ]
  },
  {
   "cell_type": "markdown",
   "id": "898c2ad1-a690-4161-8216-ef8c8ca76e3a",
   "metadata": {},
   "source": [
    "# Prompt Chaining\n",
    "\n",
    "3. Tarefa: Análise Exploratória da Estatística dos Episódios\n",
    "\n",
    "Utilizar técnica de prompt chaining para implementar uma análise exploratória dos dados de audiência, personagens e reviews dos episódios e temporadas."
   ]
  },
  {
   "cell_type": "code",
   "execution_count": 14,
   "id": "89afbb8b-5c8c-40dc-856f-196a101060d2",
   "metadata": {},
   "outputs": [],
   "source": [
    "\n",
    "cols = ['episode_id', 'episode_season','episode_original_air_date', 'episode_imdb_rating', \n",
    "        'episode_imdb_votes', 'episode_us_viewers_in_millions', 'episode_views']\n",
    "episode_stats = data[cols].drop_duplicates()\n",
    "\n",
    "episode_stats.to_csv('series_data.csv', sep=';', index=None)\n"
   ]
  },
  {
   "cell_type": "code",
   "execution_count": 10,
   "id": "58431972-b0c6-4c5c-932a-d97ea2bc6e62",
   "metadata": {},
   "outputs": [
    {
     "data": {
      "text/plain": [
       "[{'Name': 'Correlation between Ratings and Viewership',\n",
       "  'Objective': 'Determine if there is a correlation between episode ratings (IMDB) and viewership (US viewers and total views).',\n",
       "  'Method': \"Calculate the Pearson correlation coefficient between 'episode_imdb_rating' and both 'episode_us_viewers_in_millions' and 'episode_views'. Visualize the relationship using scatter plots.\"},\n",
       " {'Name': 'Impact of Season on Viewership and Ratings',\n",
       "  'Objective': 'Analyze how episode ratings and viewership change over different seasons of the show.',\n",
       "  'Method': \"Group data by 'episode_season' and calculate the average 'episode_imdb_rating', 'episode_us_viewers_in_millions', and 'episode_views' for each season. Visualize the trends using line charts.\"},\n",
       " {'Name': 'Relationship between IMDB Votes and Ratings',\n",
       "  'Objective': 'Understand if the number of IMDB votes affects the episode rating.',\n",
       "  'Method': \"Create a scatter plot of 'episode_imdb_votes' against 'episode_imdb_rating'. Calculate the correlation coefficient between these variables. Investigate potential outliers or clusters in the data.\"},\n",
       " {'Name': 'Time Series Analysis of Viewership',\n",
       "  'Objective': \"Identify trends and patterns in viewership over time (using 'episode_original_air_date').\",\n",
       "  'Method': \"Perform time series analysis on 'episode_us_viewers_in_millions' and 'episode_views' to identify seasonal, trend, and cyclical patterns. Use techniques like moving averages and decomposition methods.\"},\n",
       " {'Name': 'Predicting Future Viewership',\n",
       "  'Objective': 'Develop a predictive model to estimate future viewership based on historical data.',\n",
       "  'Method': \"Train a regression model (e.g., linear regression, decision tree) using features like season, episode rating, and previous viewership data. Evaluate the model's performance using appropriate metrics and use it to forecast future viewership.\"}]"
      ]
     },
     "execution_count": 10,
     "metadata": {},
     "output_type": "execute_result"
    }
   ],
   "source": [
    "# Definir o objetivo da análise\n",
    "# Quebrar a análise em etapas com prompts\n",
    "# Criar os prompts\n",
    "# Aplicar a saída de um prompt como entrada de outro\n",
    "\n",
    "\n",
    "# Objetivo: avaliar a relação entre a audiencia do episódio\n",
    "# e a sua nota pelo publico.\n",
    "# Analise\n",
    "# - Etapa 1: pre-processamento dos dados dos episodios\n",
    "# - Etapa 2: criar prompt que descreva como realizar o objetivo\n",
    "# - Etapa 3: utilizar a resposta do prompt anterior para gerar o codigo\n",
    "# Executar o codigo \n",
    "#\n",
    "import json\n",
    "\n",
    "prompt_start = f\"\"\"\n",
    "You are a data scientist specialized in analysing entertainment content. You are working on the show series\n",
    "\"The Simpsons\", investigating patterns in the series series_data. \n",
    "How can we evaluate the relationship between episode ratings ('episode_imdb_rating', 'episode_imdb_votes')\n",
    "and audiences ('episode_us_viewers_in_millions', 'episode_views') in series_data.csv, considering it a CSV file\n",
    "splitted by ';' with columns:\n",
    "\n",
    "- episode_id: episode unique identifier\n",
    "- episode_season: episode season number\n",
    "- episode_original_air_date: date that the episode was first exhibited\n",
    "- episode_imdb_rating: episode with the IMDB rating \n",
    "- episode_imdb_votes: episode with the number of voters\n",
    "- episode_us_viewers_in_millions: number of episode viewers (in millions)\n",
    "- episode_views: total number of episode views.\n",
    "\n",
    "Generate a list of 5 analyses that can be implemented given the available series_data, as a JSON file:\n",
    "{[\n",
    "    {'Name':'analysis name',\n",
    "     'Objective': 'what we need to analyze',\n",
    "     'Method': 'how we analyze it'\n",
    "    }\n",
    "]\n",
    "}\n",
    "\"\"\"\n",
    "\n",
    "# Definir a chave de API do Gemini (use a chave fornecida pela sua conta)\n",
    "genai.configure(api_key=os.environ[\"GEMINI_KEY\"])\n",
    "model = genai.GenerativeModel(\"gemini-1.5-flash\")\n",
    "response = model.generate_content(prompt_start)\n",
    "analysis = json.loads(response.text.replace(\"```json\\n\",'').replace(\"\\n```\",''))\n",
    "analysis"
   ]
  },
  {
   "cell_type": "code",
   "execution_count": 11,
   "id": "ab163f7b-693f-4132-8157-4a16a7cb4e27",
   "metadata": {},
   "outputs": [
    {
     "name": "stdout",
     "output_type": "stream",
     "text": [
      "```python\n",
      "import pandas as pd\n",
      "import matplotlib.pyplot as plt\n",
      "\n",
      "series_data = pd.read_csv('series_data.csv', sep=';')\n",
      "\n",
      "correlation_rating_us_viewers = series_data['episode_imdb_rating'].corr(series_data['episode_us_viewers_in_millions'])\n",
      "correlation_rating_views = series_data['episode_imdb_rating'].corr(series_data['episode_views'])\n",
      "\n",
      "plt.figure(figsize=(10, 5))\n",
      "\n",
      "plt.subplot(1, 2, 1)\n",
      "plt.scatter(series_data['episode_imdb_rating'], series_data['episode_us_viewers_in_millions'])\n",
      "plt.title('IMDB Rating vs US Viewers (Correlation: {:.2f})'.format(correlation_rating_us_viewers))\n",
      "plt.xlabel('IMDB Rating')\n",
      "plt.ylabel('US Viewers (Millions)')\n",
      "\n",
      "plt.subplot(1, 2, 2)\n",
      "plt.scatter(series_data['episode_imdb_rating'], series_data['episode_views'])\n",
      "plt.title('IMDB Rating vs Total Views (Correlation: {:.2f})'.format(correlation_rating_views))\n",
      "plt.xlabel('IMDB Rating')\n",
      "plt.ylabel('Total Views')\n",
      "\n",
      "plt.tight_layout()\n",
      "plt.show()\n",
      "```\n"
     ]
    }
   ],
   "source": [
    "prompt_analysis = f\"\"\"\n",
    "You are a data scientist specialized in analysing entertainment content. You are working on the show series\n",
    "\"The Simpsons\", investigating patterns in the series series_data. \n",
    "How can we evaluate the relationship between episode ratings ('episode_imdb_rating', 'episode_imdb_votes')\n",
    "and audiences ('episode_us_viewers_in_millions', 'episode_views') in \"series_data.csv\", considering it a CSV file\n",
    "splitted by ';' with columns:\n",
    "\n",
    "- episode_id: episode unique identifier\n",
    "- episode_season: episode season number\n",
    "- episode_original_air_date: date that the episode was first exhibited\n",
    "- episode_imdb_rating: episode with the IMDB rating \n",
    "- episode_imdb_votes: episode with the number of voters\n",
    "- episode_us_viewers_in_millions: number of episode viewers (in millions)\n",
    "- episode_views: total number of episode views.\n",
    "\n",
    "Implement the analysis described below in python.\n",
    "Output only the code, no need for explanations.\n",
    "## ANALYSIS\n",
    "{analysis[0]}\n",
    "\"\"\"\n",
    "\n",
    "# Definir a chave de API do Gemini (use a chave fornecida pela sua conta)\n",
    "genai.configure(api_key=os.environ[\"GEMINI_KEY\"])\n",
    "model = genai.GenerativeModel(\"gemini-1.5-flash\")\n",
    "response = model.generate_content(prompt_analysis)\n",
    "print(response.text)\n"
   ]
  },
  {
   "cell_type": "code",
   "execution_count": 12,
   "id": "01b5b83e-c6ff-48e6-98c7-aeb58bda6430",
   "metadata": {},
   "outputs": [
    {
     "data": {
      "image/png": "[encoded data removed]",
      "text/plain": [
       "<Figure size 1000x500 with 2 Axes>"
      ]
     },
     "metadata": {},
     "output_type": "display_data"
    }
   ],
   "source": [
    "\n",
    "analysis_code = response.text.replace(\"```python\\n\",'').replace(\"\\n```\",'')\n",
    "exec(analysis_code)"
   ]
  },
  {
   "cell_type": "code",
   "execution_count": 13,
   "id": "9b4687da-0d15-4005-a103-ad93354c7e64",
   "metadata": {},
   "outputs": [
    {
     "data": {
      "image/png": "[encoded data removed]",
      "text/plain": [
       "<Figure size 1200x600 with 3 Axes>"
      ]
     },
     "metadata": {},
     "output_type": "display_data"
    }
   ],
   "source": [
    "prompt_analysis = f\"\"\"\n",
    "You are a data scientist specialized in analysing entertainment content. You are working on the show series\n",
    "\"The Simpsons\", investigating patterns in the series series_data. \n",
    "How can we evaluate the relationship between episode ratings ('episode_imdb_rating', 'episode_imdb_votes')\n",
    "and audiences ('episode_us_viewers_in_millions', 'episode_views') in \"series_data.csv\", considering it a CSV file\n",
    "splitted by ';' with columns:\n",
    "\n",
    "- episode_id: episode unique identifier\n",
    "- episode_season: episode season number\n",
    "- episode_original_air_date: date that the episode was first exhibited\n",
    "- episode_imdb_rating: episode with the IMDB rating \n",
    "- episode_imdb_votes: episode with the number of voters\n",
    "- episode_us_viewers_in_millions: number of episode viewers (in millions)\n",
    "- episode_views: total number of episode views.\n",
    "\n",
    "Implement the analysis described below in python.\n",
    "Output only the code, no need for explanations.\n",
    "## ANALYSIS\n",
    "{analysis[1]}\n",
    "\"\"\"\n",
    "\n",
    "# Definir a chave de API do Gemini (use a chave fornecida pela sua conta)\n",
    "genai.configure(api_key=os.environ[\"GEMINI_KEY\"])\n",
    "model = genai.GenerativeModel(\"gemini-1.5-flash\")\n",
    "response = model.generate_content(prompt_analysis)\n",
    "# print(response.text)\n",
    "\n",
    "analysis_code = response.text.replace(\"```python\\n\",'').replace(\"\\n```\",'')\n",
    "exec(analysis_code)"
   ]
  },
  {
   "cell_type": "code",
   "execution_count": 14,
   "id": "236f32be-34b8-43e0-94eb-b5644bafa52b",
   "metadata": {},
   "outputs": [
    {
     "data": {
      "image/png": "[encoded data removed]",
      "text/plain": [
       "<Figure size 1000x600 with 1 Axes>"
      ]
     },
     "metadata": {},
     "output_type": "display_data"
    },
    {
     "name": "stdout",
     "output_type": "stream",
     "text": [
      "Correlation coefficient between IMDB votes and ratings: 0.7805560770639178\n"
     ]
    }
   ],
   "source": [
    "prompt_analysis = f\"\"\"\n",
    "You are a data scientist specialized in analysing entertainment content. You are working on the show series\n",
    "\"The Simpsons\", investigating patterns in the series series_data. \n",
    "How can we evaluate the relationship between episode ratings ('episode_imdb_rating', 'episode_imdb_votes')\n",
    "and audiences ('episode_us_viewers_in_millions', 'episode_views') in \"series_data.csv\", considering it a CSV file\n",
    "splitted by ';' with columns:\n",
    "\n",
    "- episode_id: episode unique identifier\n",
    "- episode_season: episode season number\n",
    "- episode_original_air_date: date that the episode was first exhibited\n",
    "- episode_imdb_rating: episode with the IMDB rating \n",
    "- episode_imdb_votes: episode with the number of voters\n",
    "- episode_us_viewers_in_millions: number of episode viewers (in millions)\n",
    "- episode_views: total number of episode views.\n",
    "\n",
    "Implement the analysis described below in python.\n",
    "Output only the code, no need for explanations.\n",
    "## ANALYSIS\n",
    "{analysis[2]}\n",
    "\"\"\"\n",
    "\n",
    "# Definir a chave de API do Gemini (use a chave fornecida pela sua conta)\n",
    "genai.configure(api_key=os.environ[\"GEMINI_KEY\"])\n",
    "model = genai.GenerativeModel(\"gemini-1.5-flash\")\n",
    "response = model.generate_content(prompt_analysis)\n",
    "# print(response.text)\n",
    "\n",
    "analysis_code = response.text.replace(\"```python\\n\",'').replace(\"\\n```\",'')\n",
    "exec(analysis_code)"
   ]
  },
  {
   "cell_type": "markdown",
   "id": "e194952b-8831-4b38-89aa-758c74fd48d7",
   "metadata": {},
   "source": [
    "# Chain of Thought Prompting\n",
    "\n",
    "3) Tarefa: Chain-of-thoughts para criação do dashboard de interação com os atores\n",
    "\n",
    "Usar o LLM para gerar um código Python para implementar um dashboard streamlit com a interação entre o usuários e os atores."
   ]
  },
  {
   "cell_type": "code",
   "execution_count": null,
   "id": "70ecbcfd-d20f-4ee6-9cea-ce13b4b7b0be",
   "metadata": {},
   "outputs": [],
   "source": [
    "# Prompt 1: criar um hello world com streamlit\n",
    "# Prompt 2: criar YAML (meta prompt dos personagens)\n",
    "# Prompt 3: adicionar a sua leitura no streamlit\n",
    "# Prompt 4: criar explicacao em Markdown para contextualizar o usuario\n",
    "# Prompt 5: criar interfaces para o usuario escolher persona e escrever o chat\n",
    "# Prompt 6: adicionar a interacao com o LLM\n",
    "# Rodar os codigos gerados"
   ]
  },
  {
   "cell_type": "code",
   "execution_count": 19,
   "id": "7da60fb1-fa8d-4239-b720-b2eadc79c61d",
   "metadata": {},
   "outputs": [
    {
     "name": "stdout",
     "output_type": "stream",
     "text": [
      "```python\n",
      "import streamlit as st\n",
      "\n",
      "st.title('Hello World!')\n",
      "```\n"
     ]
    }
   ],
   "source": [
    "# Definir a chave de API do Gemini (use a chave fornecida pela sua conta)\n",
    "prompt1 = \"\"\"\n",
    "criar um codigo hello world com streamlit.\n",
    "Escrever somente o codigo, sem explicação.\n",
    "\"\"\"\n",
    "\n",
    "genai.configure(api_key=os.environ[\"GEMINI_KEY\"])\n",
    "model = genai.GenerativeModel(\"gemini-1.5-flash\")\n",
    "response = model.generate_content(prompt1)\n",
    "print(response.text)\n"
   ]
  },
  {
   "cell_type": "code",
   "execution_count": 25,
   "id": "66d3e7b5-8bc4-4170-b0b2-204d2c638a34",
   "metadata": {},
   "outputs": [
    {
     "name": "stdout",
     "output_type": "stream",
     "text": [
      "```yaml\n",
      "prompt: \"Você é um personagem do The Simpsons. Responda como esse personagem falaria e agiria. Use a linguagem e o estilo adequados ao personagem escolhido. Lembre-se de se manter fiel à personalidade e ao comportamento do personagem.\"\n",
      "```\n"
     ]
    }
   ],
   "source": [
    "# Definir a chave de API do Gemini (use a chave fornecida pela sua conta)\n",
    "prompt2 = \"\"\"\n",
    "Escrever um arquivo YAML com uma chave prompt que contenha o prompt\n",
    "para instruir o LLM a se comportar como um personagem do show The Simpsons\n",
    "\n",
    "Escrever somente o codigo, sem explicação.\n",
    "\n",
    "\"\"\"\n",
    "\n",
    "genai.configure(api_key=os.environ[\"GEMINI_KEY\"])\n",
    "model = genai.GenerativeModel(\"gemini-1.5-flash\")\n",
    "response = model.generate_content(prompt2)\n",
    "print(response.text)\n"
   ]
  },
  {
   "cell_type": "code",
   "execution_count": 28,
   "id": "e4f08da6-6e58-4349-9673-394eda78a1b4",
   "metadata": {},
   "outputs": [
    {
     "name": "stdout",
     "output_type": "stream",
     "text": [
      "```python\n",
      "import streamlit as st\n",
      "import yaml\n",
      "\n",
      "st.title(\"Conteúdo do arquivo prompts.yaml\")\n",
      "\n",
      "with open('prompts.yaml', 'r') as file:\n",
      "  prompts = yaml.safe_load(file)\n",
      "\n",
      "st.json(prompts)\n",
      "```\n"
     ]
    }
   ],
   "source": [
    "# Definir a chave de API do Gemini (use a chave fornecida pela sua conta)\n",
    "prompt3 = \"\"\"\n",
    "Escreva uma aplicacao streamlit que leia o arquivo prompts.yaml e exponha na tela\n",
    "o seu conteudo.\n",
    "\n",
    "Escrever somente o codigo, sem explicação.\n",
    "\n",
    "\"\"\"\n",
    "\n",
    "genai.configure(api_key=os.environ[\"GEMINI_KEY\"])\n",
    "model = genai.GenerativeModel(\"gemini-1.5-flash\")\n",
    "response = model.generate_content(prompt3)\n",
    "print(response.text)\n"
   ]
  },
  {
   "cell_type": "code",
   "execution_count": 26,
   "id": "68566a79-ecdb-47e6-9d06-e7a12e52a737",
   "metadata": {},
   "outputs": [],
   "source": [
    "codelines = response.text.replace(\"```yaml\\n\",'').replace(\"\\n```\",'')\n",
    "with open('prompts.yaml','w') as fid:\n",
    "    fid.write(codelines)\n"
   ]
  },
  {
   "cell_type": "code",
   "execution_count": 29,
   "id": "013ee619-e66e-4cf5-a422-b96130962413",
   "metadata": {},
   "outputs": [],
   "source": [
    "codelines = response.text.replace(\"```python\\n\",'').replace(\"\\n```\",'')\n",
    "with open('dashboard.py','w') as fid:\n",
    "    fid.write(codelines)\n"
   ]
  },
  {
   "cell_type": "markdown",
   "id": "ae9993fa-cffd-4f17-9eb8-0059c7719cc0",
   "metadata": {},
   "source": [
    "# Generated Knowledge Prompting\n",
    "\n",
    "4. Tarefa: utilizar técnica de Generated Knowledge para gerar Insights\n",
    "\n",
    "Usar o LLM como um cientista de dados para gerar insights de acordo com a estatística e análises realizadas na base de dados."
   ]
  },
  {
   "cell_type": "code",
   "execution_count": null,
   "id": "257623c1-941a-4d66-be89-6128793c48bb",
   "metadata": {},
   "outputs": [],
   "source": []
  },
  {
   "cell_type": "markdown",
   "id": "c5103a4d-c718-4d19-a39e-d59aed76c11b",
   "metadata": {},
   "source": [
    "# Modelos NLI para Avaliar Prompts\n",
    "\n",
    "4. Tarefa: utilizar modelo BART-NLI para categorizar os episódios para diferentes faixas etárias"
   ]
  },
  {
   "cell_type": "markdown",
   "id": "44e7e6e0-d914-41bc-a8e5-f364585ee69e",
   "metadata": {},
   "source": [
    "### Classificação de Contradições"
   ]
  },
  {
   "cell_type": "code",
   "execution_count": 36,
   "id": "c072d1a2-2ce0-45aa-89d4-d6a488d5c921",
   "metadata": {},
   "outputs": [
    {
     "name": "stderr",
     "output_type": "stream",
     "text": [
      "Hardware accelerator e.g. GPU is available in the environment, but no `device` argument is passed to the `Pipeline` object. Model will be on CPU.\n"
     ]
    },
    {
     "name": "stdout",
     "output_type": "stream",
     "text": [
      "1\n",
      "Resposta bloqueada por inconsistência ou conteúdo ofensivo.\n"
     ]
    }
   ],
   "source": [
    "from transformers import pipeline\n",
    "\n",
    "# Carrega o modelo NLI\n",
    "nli_model = pipeline(\"text-classification\", model=\"facebook/bart-large-mnli\")\n",
    "\n",
    "def valida_resposta(entrada, resposta):\n",
    "    # Usa o modelo NLI para verificar a relação entre entrada e resposta\n",
    "    resultado = nli_model(f\"{entrada} {resposta}\")\n",
    "    if resultado[0]['label'] == \"contradiction\":\n",
    "        return \"Resposta bloqueada por inconsistência ou conteúdo ofensivo.\"\n",
    "    return resposta\n",
    "\n",
    "\n",
    "# Exemplo de uso da função `valida_resposta`\n",
    "entrada = \"Explique o conceito de física quântica de forma simples.\"\n",
    "resposta = \"Física quântica é a ciência do muito pequeno. Mas você nunca vai entender isso!\" # ofensivo\n",
    "# resposta = 'Que burro!' # ofensivo\n",
    "# resposta = \"Física quântica é a ciência do muito pequeno.\" # corretp\n",
    "# resposta = \"Física quântica é a ciência do grande.\" # incorreto\n",
    "\n",
    "# Chamada do pipeline de validação\n",
    "resultado = valida_resposta(entrada, resposta)\n",
    "print(resultado)  # Exibe \"Resposta bloqueada por inconsistência ou conteúdo ofensivo.\"\n"
   ]
  },
  {
   "cell_type": "markdown",
   "id": "54e96206-8afc-4b69-b8fe-ab30456af515",
   "metadata": {},
   "source": [
    "### Classificação de Labels com Zero-shot"
   ]
  },
  {
   "cell_type": "code",
   "execution_count": 66,
   "id": "1d6205b0-40e2-4804-8620-9cf07ead37ca",
   "metadata": {},
   "outputs": [
    {
     "name": "stderr",
     "output_type": "stream",
     "text": [
      "/home/ciodaro/Programs/anaconda3/envs/eng-prompt/lib/python3.10/site-packages/transformers/tokenization_utils_base.py:1617: FutureWarning: `clean_up_tokenization_spaces` was not set. It will be set to `True` by default. This behavior will be deprecated in transformers v4.45, and will be then set to `False` by default. For more details check this issue: https://github.com/huggingface/transformers/issues/31884\n",
      "  warnings.warn(\n",
      "Hardware accelerator e.g. GPU is available in the environment, but no `device` argument is passed to the `Pipeline` object. Model will be on CPU.\n"
     ]
    },
    {
     "data": {
      "text/plain": [
       "{'sequence': \"My friend, this is 'Zé Cachaça', a colleague from Brazil\",\n",
       " 'labels': ['alcohol', 'non-offensive', 'offensive', 'sex'],\n",
       " 'scores': [0.9649195075035095,\n",
       "  0.014620142988860607,\n",
       "  0.011393223889172077,\n",
       "  0.009067134000360966]}"
      ]
     },
     "execution_count": 66,
     "metadata": {},
     "output_type": "execute_result"
    }
   ],
   "source": [
    "from transformers import pipeline\n",
    "classifier = pipeline(\"zero-shot-classification\", model=\"facebook/bart-large-mnli\")\n",
    "# sequence_to_classify = \"Que burro!\"\n",
    "# sequence_to_classify = \"Explique o conceito de física quântica de forma simples.\"\n",
    "sequence_to_classify = \"My friend, this is 'Zé Cachaça', a colleague from Brazil\"\n",
    "candidate_labels = ['offensive', 'alcohol', 'sex', 'non-offensive']\n",
    "predicted_labels = classifier(sequence_to_classify, candidate_labels)\n",
    "predicted_labels"
   ]
  },
  {
   "cell_type": "code",
   "execution_count": 113,
   "id": "1e9b0359-835c-40d5-b067-0d9b45760f31",
   "metadata": {},
   "outputs": [
    {
     "name": "stdout",
     "output_type": "stream",
     "text": [
      "INFO: Pandarallel will run on 4 workers.\n",
      "INFO: Pandarallel will use Memory file system to transfer data between the main process and workers.\n"
     ]
    },
    {
     "name": "stderr",
     "output_type": "stream",
     "text": [
      "/home/ciodaro/Programs/anaconda3/envs/eng-prompt/lib/python3.10/site-packages/transformers/tokenization_utils_base.py:1617: FutureWarning: `clean_up_tokenization_spaces` was not set. It will be set to `True` by default. This behavior will be deprecated in transformers v4.45, and will be then set to `False` by default. For more details check this issue: https://github.com/huggingface/transformers/issues/31884\n",
      "  warnings.warn(\n",
      "Hardware accelerator e.g. GPU is available in the environment, but no `device` argument is passed to the `Pipeline` object. Model will be on CPU.\n",
      "/home/ciodaro/Programs/anaconda3/envs/eng-prompt/lib/python3.10/site-packages/transformers/tokenization_utils_base.py:1617: FutureWarning: `clean_up_tokenization_spaces` was not set. It will be set to `True` by default. This behavior will be deprecated in transformers v4.45, and will be then set to `False` by default. For more details check this issue: https://github.com/huggingface/transformers/issues/31884\n",
      "  warnings.warn(\n",
      "Hardware accelerator e.g. GPU is available in the environment, but no `device` argument is passed to the `Pipeline` object. Model will be on CPU.\n",
      "/home/ciodaro/Programs/anaconda3/envs/eng-prompt/lib/python3.10/site-packages/transformers/tokenization_utils_base.py:1617: FutureWarning: `clean_up_tokenization_spaces` was not set. It will be set to `True` by default. This behavior will be deprecated in transformers v4.45, and will be then set to `False` by default. For more details check this issue: https://github.com/huggingface/transformers/issues/31884\n",
      "  warnings.warn(\n",
      "Hardware accelerator e.g. GPU is available in the environment, but no `device` argument is passed to the `Pipeline` object. Model will be on CPU.\n",
      "/home/ciodaro/Programs/anaconda3/envs/eng-prompt/lib/python3.10/site-packages/transformers/tokenization_utils_base.py:1617: FutureWarning: `clean_up_tokenization_spaces` was not set. It will be set to `True` by default. This behavior will be deprecated in transformers v4.45, and will be then set to `False` by default. For more details check this issue: https://github.com/huggingface/transformers/issues/31884\n",
      "  warnings.warn(\n",
      "Hardware accelerator e.g. GPU is available in the environment, but no `device` argument is passed to the `Pipeline` object. Model will be on CPU.\n"
     ]
    }
   ],
   "source": [
    "from pandarallel import pandarallel\n",
    "from transformers import pipeline\n",
    "\n",
    "def nli_classification(sequence_to_classify):\n",
    "    classifier = pipeline(\"zero-shot-classification\", model=\"facebook/bart-large-mnli\")\n",
    "    # candidate_labels = ['offensive', 'alcohol', 'sex', 'non-offensive']\n",
    "    candidate_labels = ['offensive', 'non-offensive']\n",
    "\n",
    "    sequence_to_classify = f\"\"\"\n",
    "    Classify the sentence given that it comes from a comedy show:\n",
    "    - {sequence_to_classify}\n",
    "    \"\"\"\n",
    "    \n",
    "    label_dict = classifier(sequence_to_classify, candidate_labels)\n",
    "    label_dict.pop('sequence')\n",
    "    return label_dict\n",
    "\n",
    "\n",
    "pandarallel.initialize(nb_workers=4)\n",
    "\n",
    "episode_season = 5\n",
    "episode_id = 92\n",
    "X = (data[(data.episode_season == episode_season) &\n",
    "          (data.episode_id == episode_id)].sort_values('number')\n",
    ")\n",
    "X = X.dropna(subset='normalized_text')\n",
    "\n",
    "X = X.iloc[:4]\n",
    "X['nli_labels'] = X.normalized_text.parallel_apply(lambda x: nli_classification(x))\n"
   ]
  },
  {
   "cell_type": "code",
   "execution_count": 114,
   "id": "213a8984-dd7c-486d-b712-0bc51a28bcf9",
   "metadata": {},
   "outputs": [
    {
     "data": {
      "text/plain": [
       "['dad weve been robbed',\n",
       " 'wake up dad wake up there was a burglar and he took my saxophone',\n",
       " 'woo hoo',\n",
       " 'and our portable tv']"
      ]
     },
     "execution_count": 114,
     "metadata": {},
     "output_type": "execute_result"
    }
   ],
   "source": [
    "X.iloc[:4].normalized_text.tolist()"
   ]
  },
  {
   "cell_type": "code",
   "execution_count": 115,
   "id": "fdf40292-4f1c-4f1c-b9b6-94264c6e5268",
   "metadata": {},
   "outputs": [
    {
     "data": {
      "text/html": [
       "<div>\n",
       "<style scoped>\n",
       "    .dataframe tbody tr th:only-of-type {\n",
       "        vertical-align: middle;\n",
       "    }\n",
       "\n",
       "    .dataframe tbody tr th {\n",
       "        vertical-align: top;\n",
       "    }\n",
       "\n",
       "    .dataframe thead th {\n",
       "        text-align: right;\n",
       "    }\n",
       "</style>\n",
       "<table border=\"1\" class=\"dataframe\">\n",
       "  <thead>\n",
       "    <tr style=\"text-align: right;\">\n",
       "      <th></th>\n",
       "      <th>labels</th>\n",
       "      <th>scores</th>\n",
       "    </tr>\n",
       "  </thead>\n",
       "  <tbody>\n",
       "    <tr>\n",
       "      <th>0</th>\n",
       "      <td>non-offensive</td>\n",
       "      <td>0.757714</td>\n",
       "    </tr>\n",
       "    <tr>\n",
       "      <th>0</th>\n",
       "      <td>offensive</td>\n",
       "      <td>0.242286</td>\n",
       "    </tr>\n",
       "    <tr>\n",
       "      <th>1</th>\n",
       "      <td>non-offensive</td>\n",
       "      <td>0.719318</td>\n",
       "    </tr>\n",
       "    <tr>\n",
       "      <th>1</th>\n",
       "      <td>offensive</td>\n",
       "      <td>0.280682</td>\n",
       "    </tr>\n",
       "    <tr>\n",
       "      <th>2</th>\n",
       "      <td>non-offensive</td>\n",
       "      <td>0.637548</td>\n",
       "    </tr>\n",
       "    <tr>\n",
       "      <th>2</th>\n",
       "      <td>offensive</td>\n",
       "      <td>0.362452</td>\n",
       "    </tr>\n",
       "    <tr>\n",
       "      <th>3</th>\n",
       "      <td>non-offensive</td>\n",
       "      <td>0.822706</td>\n",
       "    </tr>\n",
       "    <tr>\n",
       "      <th>3</th>\n",
       "      <td>offensive</td>\n",
       "      <td>0.177294</td>\n",
       "    </tr>\n",
       "  </tbody>\n",
       "</table>\n",
       "</div>"
      ],
      "text/plain": [
       "          labels    scores\n",
       "0  non-offensive  0.757714\n",
       "0      offensive  0.242286\n",
       "1  non-offensive  0.719318\n",
       "1      offensive  0.280682\n",
       "2  non-offensive  0.637548\n",
       "2      offensive  0.362452\n",
       "3  non-offensive  0.822706\n",
       "3      offensive  0.177294"
      ]
     },
     "execution_count": 115,
     "metadata": {},
     "output_type": "execute_result"
    }
   ],
   "source": [
    "X.nli_labels\n",
    "\n",
    "Y = pd.json_normalize(X.nli_labels)\n",
    "Y = Y.explode(['labels','scores'])\n",
    "Y"
   ]
  },
  {
   "cell_type": "code",
   "execution_count": 121,
   "id": "df926ed3-0e26-4dea-9322-aefd82afc220",
   "metadata": {},
   "outputs": [
    {
     "name": "stderr",
     "output_type": "stream",
     "text": [
      "Hardware accelerator e.g. GPU is available in the environment, but no `device` argument is passed to the `Pipeline` object. Model will be on CPU.\n"
     ]
    },
    {
     "data": {
      "text/plain": [
       "{'labels': ['non-offensive', 'offensive'],\n",
       " 'scores': [0.6086537837982178, 0.39134615659713745]}"
      ]
     },
     "execution_count": 121,
     "metadata": {},
     "output_type": "execute_result"
    }
   ],
   "source": [
    "nli_classification('please come ass soon as possible')"
   ]
  },
  {
   "cell_type": "code",
   "execution_count": null,
   "id": "745230f3-03a7-494f-a94e-5bfe031697a7",
   "metadata": {},
   "outputs": [],
   "source": []
  },
  {
   "cell_type": "markdown",
   "id": "104e4cc9-342b-4f2d-b4c7-4a9d4a06b479",
   "metadata": {},
   "source": [
    "# Prompt Injection\n",
    "\n",
    "5) Tarefa: Injeção de Prompting Alterando Personagens\n",
    "6) \n",
    "Simular injeções de prompting para alterar o comportamento de Atores baseados em LLMs."
   ]
  },
  {
   "cell_type": "code",
   "execution_count": null,
   "id": "471424bc-75d5-4ab2-b07d-84ea84c33987",
   "metadata": {},
   "outputs": [],
   "source": []
  },
  {
   "cell_type": "markdown",
   "id": "8972ca3a-ffc2-4244-aac0-211b928dcd74",
   "metadata": {},
   "source": [
    "# Prompt-Chaining\n",
    "\n",
    "6) Tarefa: Prompt-Chaining para moderação de discurso\n",
    "\n",
    "Implementar um Agente Revisor para condicionar as falas à classificação etária."
   ]
  },
  {
   "cell_type": "code",
   "execution_count": null,
   "id": "be9c91f4-6416-494a-8dd5-7f821b9374e1",
   "metadata": {},
   "outputs": [],
   "source": []
  },
  {
   "cell_type": "code",
   "execution_count": null,
   "id": "92ca624d-be74-48d2-888c-3e04402d0545",
   "metadata": {},
   "outputs": [],
   "source": []
  },
  {
   "cell_type": "markdown",
   "id": "538cf31e-4f39-4e7e-b0a7-cfe748534187",
   "metadata": {},
   "source": [
    "# Batch Prompting"
   ]
  },
  {
   "cell_type": "code",
   "execution_count": 63,
   "id": "1c870be0-4757-46cf-a329-f4fb9cae3f0a",
   "metadata": {},
   "outputs": [
    {
     "name": "stdout",
     "output_type": "stream",
     "text": [
      "Tokens em prompts individuais: 152\n",
      "Tokens em batch prompting: 96\n"
     ]
    }
   ],
   "source": [
    "from openai import OpenAI\n",
    "\n",
    "client = OpenAI(\n",
    "    api_key=os.environ['OPENAI_KEY'],\n",
    ")\n",
    "\n",
    "# Prompts individuais para comparação de custo\n",
    "prompts_individuais = [\n",
    "    \"Classifique o sentimento: 'Muito bom produto!'\",\n",
    "    \"Extraia palavras-chave: 'Serviço de entrega rápida e eficiente.'\",\n",
    "    \"Resuma: 'Inteligência artificial está revolucionando vários setores.'\"\n",
    "]\n",
    "\n",
    "# Calculo do custo total em tokens para requisições individuais\n",
    "total_tokens_individuais = 0\n",
    "responses_individuals = []\n",
    "for prompt in prompts_individuais:\n",
    "    response = client.completions.create(\n",
    "        model=\"gpt-3.5-turbo-instruct\",\n",
    "        prompt=prompt,\n",
    "        max_tokens = 50,\n",
    "        temperature=1,\n",
    "    )\n",
    "    # response = client.completion.create(engine=\"gpt-4\", prompt=prompt, max_tokens=50)\n",
    "    total_tokens_individuais += response.usage.total_tokens\n",
    "    responses_individuals.append(response.choices[0].text.strip().split('\\n'))\n",
    "\n",
    "# Prompt em lote para economia de tokens\n",
    "prompt_batch = \"\"\"\n",
    "1. Classifique o sentimento: 'Muito bom produto!'\n",
    "2. Extraia palavras-chave: 'Serviço de entrega rápida e eficiente.'\n",
    "3. Resuma: 'Inteligência artificial está revolucionando vários setores.'\n",
    "\"\"\"\n",
    "response = client.completions.create(\n",
    "    model=\"gpt-3.5-turbo-instruct\",\n",
    "    prompt=prompt_batch,\n",
    "    max_tokens=150,\n",
    "    temperature=1,\n",
    ")\n",
    "tokens_batch = response.usage.total_tokens\n",
    "responses_batch = response.choices[0].text.strip().split('\\n')\n",
    "\n",
    "print(\"Tokens em prompts individuais:\", total_tokens_individuais)\n",
    "print(\"Tokens em batch prompting:\", tokens_batch)\n"
   ]
  },
  {
   "cell_type": "code",
   "execution_count": 64,
   "id": "fc0706bc-5ec1-45da-a1a4-b0ef34566e9a",
   "metadata": {},
   "outputs": [
    {
     "data": {
      "text/plain": [
       "[['Positivo'],\n",
       " ['1. Serviço ',\n",
       "  '2. Entrega ',\n",
       "  '3. Rápida ',\n",
       "  '4. Eficiente ',\n",
       "  '5. Entrega rápida ',\n",
       "  '6. Entrega eficiente ',\n",
       "  '7. Serviço de entrega ',\n",
       "  '8. Entrega'],\n",
       " ['A inteligência artificial (IA) é uma área da ciência da computação que busca criar sistemas que possam realizar tarefas que geralmente exigem a inteligência humana. Esses sistemas são projetados para aprender, racioc']]"
      ]
     },
     "execution_count": 64,
     "metadata": {},
     "output_type": "execute_result"
    }
   ],
   "source": [
    "responses_individuals"
   ]
  },
  {
   "cell_type": "code",
   "execution_count": 65,
   "id": "4b101b76-d8f9-4f58-a0e4-ffd72346d002",
   "metadata": {},
   "outputs": [
    {
     "data": {
      "text/plain": [
       "['1. Sentimento: Positivo ',\n",
       " '2. Palavras-chave: Serviço, entrega, rápida, eficiente ',\n",
       " '3. Resumo: IA revolucionando setores.']"
      ]
     },
     "execution_count": 65,
     "metadata": {},
     "output_type": "execute_result"
    }
   ],
   "source": [
    "responses_batch"
   ]
  },
  {
   "cell_type": "markdown",
   "id": "68511560-ce70-4188-ad54-00bcfc12cd9c",
   "metadata": {},
   "source": [
    "## Sumarização Personas\n",
    "\n",
    "7) Tarefa: Sumarizador de personas com Batch-prompting\n",
    "\n",
    "Utilizar técnicas de chunks para consolidar as características do personagem segundo suas falas."
   ]
  },
  {
   "cell_type": "code",
   "execution_count": 4,
   "id": "1f6e2939-3cc4-4996-a3dc-956c544f03d4",
   "metadata": {},
   "outputs": [
    {
     "name": "stdout",
     "output_type": "stream",
     "text": [
      "Summarizing text\n",
      "Summarizing chunk 1 from 7\n",
      "Summarizing chunk 2 from 7\n",
      "Summarizing chunk 3 from 7\n",
      "Summarizing chunk 4 from 7\n",
      "Summarizing chunk 5 from 7\n",
      "Summarizing chunk 6 from 7\n",
      "Summarizing chunk 7 from 7\n",
      "Interacting\n"
     ]
    }
   ],
   "source": [
    "from summarizer import ChunkSummary\n",
    "import json\n",
    "\n",
    "\n",
    "system_prompt = f\"\"\"\n",
    "You are an editor assistant from the \"The Simpsons\" show.\n",
    "You will receive the subtitles from real episodes in the format:\n",
    "<location>, <character> said: <character line>\n",
    "\"\"\"\n",
    "user_prompt = f\"\"\"\n",
    "You must create a summary of the episode, pointing out the most\n",
    "relevant information and key players in the story. Bare in mind\n",
    "that the summary must describe how the episode started, which key\n",
    "points are relevant along the story and its gran finale.\n",
    "\"\"\"\n",
    "\n",
    "# Filtrar dados\n",
    "episode_season = 5\n",
    "episode_id = 92\n",
    "X = (data[(data.episode_season == episode_season) &\n",
    "          (data.episode_id == episode_id)].sort_values('number')\n",
    ")\n",
    "X = X.dropna(subset='normalized_text')\n",
    "\n",
    "episode_summarizer = ChunkSummary(\n",
    "    model_name = \"gemini-1.5-flash\",\n",
    "    apikey = os.environ[\"GEMINI_KEY\"],\n",
    "    text = X['line'].tolist(),\n",
    "    window_size = 40,\n",
    "    overlap_size = 5,\n",
    "    system_prompt=system_prompt,\n",
    ")\n",
    "\n",
    "episode_summary = episode_summarizer.summarize(user_prompt)\n",
    "episode_summary = json.loads(episode_summary.replace(\"```json\\n\",'').replace(\"\\n```\",''))"
   ]
  },
  {
   "cell_type": "code",
   "execution_count": 5,
   "id": "e3693c39-62f0-4360-92a0-af4ea0213a21",
   "metadata": {},
   "outputs": [
    {
     "data": {
      "text/plain": [
       "{'assistant': \"The episode begins with a series of burglaries in Springfield, targeting various homes and even the police station. Chief Wiggum, despite his best efforts, fails to catch the culprit. Meanwhile, Homer, inspired by a vigilante movie, decides to form his own posse to clean up Springfield. However, his actions quickly escalate into abuse of power, leading to more crime than prevention. The episode then shifts focus to the cat burglar, who is revealed to be Molloy, a resident of Springfield Retirement Castle. Molloy, despite his crimes, charms the residents and is about to be released until Mayor Quimby bribes Chief Wiggum. Homer, believing he caught Molloy, is excited about finding the stolen treasure. Molloy reveals the treasure's location, causing a frenzy in Springfield as everyone rushes to find it. However, it turns out to be a prank by Molloy, who escapes with the treasure while leaving a note for the townspeople. The episode ends with everyone digging in the park, frustrated and empty-handed.\"}"
      ]
     },
     "execution_count": 5,
     "metadata": {},
     "output_type": "execute_result"
    }
   ],
   "source": [
    "episode_summary"
   ]
  },
  {
   "cell_type": "code",
   "execution_count": 15,
   "id": "ce1da579-d7aa-4919-9048-eb9afed1384a",
   "metadata": {},
   "outputs": [
    {
     "name": "stdout",
     "output_type": "stream",
     "text": [
      "Summarizing text\n",
      "Summarizing chunk 1 from 9\n",
      "Summarizing chunk 2 from 9\n",
      "Summarizing chunk 3 from 9\n",
      "Summarizing chunk 4 from 9\n",
      "Summarizing chunk 5 from 9\n",
      "Summarizing chunk 6 from 9\n",
      "Summarizing chunk 7 from 9\n",
      "Summarizing chunk 8 from 9\n",
      "Summarizing chunk 9 from 9\n",
      "Interacting\n"
     ]
    }
   ],
   "source": [
    "from summarizer import ChunkSummary\n",
    "import json\n",
    "\n",
    "# Filtrar dados\n",
    "episode_season = 5\n",
    "# episode_id = 92\n",
    "character_name = 'lisa simpson'\n",
    "\n",
    "\n",
    "system_prompt = f\"\"\"\n",
    "You are an editor assistant from the \"The Simpsons\" show.\n",
    "You will receive the subtitles from real episodes in the format:\n",
    "<episode number> | <location>, <character> said: <character line>\n",
    "\"\"\"\n",
    "\n",
    "user_prompt = f\"\"\"\n",
    "You must describe and summarize what happened to {character_name}\n",
    "across all episodes from Seasons {episode_season}\n",
    "\"\"\"\n",
    "\n",
    "\n",
    "X = (data[(data.episode_season == episode_season) &\n",
    "          (data.character_normalized_name == character_name)\n",
    "     ].sort_values('number')\n",
    ")\n",
    "X = X.dropna(subset='normalized_text')\n",
    "\n",
    "episode_summarizer = ChunkSummary(\n",
    "    model_name = \"gemini-1.5-flash\",\n",
    "    apikey = os.environ[\"GEMINI_KEY\"],\n",
    "    text = X['line'].tolist(),\n",
    "    window_size = 40,\n",
    "    overlap_size = 5,\n",
    "    system_prompt=system_prompt,\n",
    ")\n",
    "\n",
    "episode_summary = episode_summarizer.summarize(user_prompt)\n",
    "# episode_summary = json.loads(episode_summary.replace(\"```json\\n\",'').replace(\"\\n```\",''))"
   ]
  },
  {
   "cell_type": "code",
   "execution_count": 19,
   "id": "a27e1191-35d4-4a7a-955a-5f274ab58e31",
   "metadata": {},
   "outputs": [
    {
     "data": {
      "text/plain": [
       "'{\\n \"assistant\": \"Lisa Simpson in Season 5 is a complex and multifaceted character who navigates a variety of challenges and experiences. She is a strong advocate for her beliefs, standing up for animal rights, criticizing sexist messages in toys, and trying to make the world a better place. She is also a thoughtful and compassionate character who cares deeply for her family and friends, often trying to help them through difficult situations. \\n\\nHere are some of the key events and experiences Lisa faces in Season 5:\\n\\n* **Dealing with Bart\\'s antics:** Lisa often finds herself exasperated by her brother Bart\\'s mischievous behavior, but she also tries to understand him and help him when he\\'s struggling.\\n* **Musical aspirations:** Lisa\\'s passion for music is a recurring theme, and she faces challenges like having her saxophone stolen and trying to find her own musical voice.\\n* **Social justice:** Lisa is a strong advocate for social justice, protesting against the imprisonment of an animal and criticizing the sexist messages of Malibu Stacy dolls.\\n* **Family dynamics:** Lisa is deeply concerned about her family\\'s well-being, trying to help her parents with their relationship, worrying about Bart\\'s behavior, and trying to keep things together.\\n* **Personal growth:** Lisa is a bright and observant child who is constantly learning and growing. She questions the world around her, explores her own creativity, and tries to make sense of the complexities of relationships and the meaning of life.\\n\\nOverall, Season 5 showcases Lisa\\'s intelligence, compassion, and unwavering commitment to doing what she believes is right. She is a complex and relatable character who continues to grow and evolve throughout the season.\"\\n}'"
      ]
     },
     "execution_count": 19,
     "metadata": {},
     "output_type": "execute_result"
    }
   ],
   "source": [
    "episode_summary.replace(\"```json\\n\",'').replace(\"\\n```\",'')"
   ]
  },
  {
   "cell_type": "code",
   "execution_count": null,
   "id": "1cb2f3c5-5d53-42ea-9599-63c3eb5d16c0",
   "metadata": {},
   "outputs": [],
   "source": []
  },
  {
   "cell_type": "markdown",
   "id": "f0eadb79-f920-478f-94fe-66786beb930d",
   "metadata": {},
   "source": [
    "## Extração de Palavras Chave\n",
    "\n",
    "8) Tarefa: Extração de palavras chaves dos episódios por chunks\n",
    "\n",
    "Utilizar Batch Prompting para extrair palavras chave nos episódios.\n"
   ]
  },
  {
   "cell_type": "code",
   "execution_count": null,
   "id": "ed0b56e7-b7b6-4268-aced-499223231a8d",
   "metadata": {},
   "outputs": [],
   "source": []
  },
  {
   "cell_type": "code",
   "execution_count": null,
   "id": "115380e3-1d3f-43e7-845a-bab78b284fab",
   "metadata": {},
   "outputs": [],
   "source": []
  },
  {
   "cell_type": "code",
   "execution_count": null,
   "id": "77309867-e8bf-4fd3-99a4-e76f59e31207",
   "metadata": {},
   "outputs": [],
   "source": []
  },
  {
   "cell_type": "markdown",
   "id": "6faddff2-459a-4419-b5d8-96a324f381de",
   "metadata": {},
   "source": [
    "## KDB para atividades Q/A\n",
    "\n",
    "9) Tarefa: Aplicação de KDB para Otimizar Prompts\n",
    "10) \n",
    "Interface para QA com um assistente especialista em Simpsons."
   ]
  },
  {
   "cell_type": "markdown",
   "id": "ec53d7c0-bfb6-4668-b7a9-235b57328f4d",
   "metadata": {},
   "source": [
    "## Código Base"
   ]
  },
  {
   "cell_type": "code",
   "execution_count": 21,
   "id": "8b23971a-bb61-41e4-8b1d-dfd1073ce9a2",
   "metadata": {},
   "outputs": [
    {
     "name": "stderr",
     "output_type": "stream",
     "text": [
      "/home/ciodaro/Programs/anaconda3/envs/eng-prompt/lib/python3.10/site-packages/transformers/tokenization_utils_base.py:1617: FutureWarning: `clean_up_tokenization_spaces` was not set. It will be set to `True` by default. This behavior will be deprecated in transformers v4.45, and will be then set to `False` by default. For more details check this issue: https://github.com/huggingface/transformers/issues/31884\n",
      "  warnings.warn(\n"
     ]
    },
    {
     "name": "stdout",
     "output_type": "stream",
     "text": [
      "Número de vetores no índice: 5\n",
      "Texto mais próximo 1: Deep learning é uma área fascinante da IA. (distância: 0.5508567094802856)\n",
      "Texto mais próximo 2: Eu adoro aprender sobre inteligência artificial. (distância: 1.1480979919433594)\n"
     ]
    }
   ],
   "source": [
    "# Instale as bibliotecas necessárias, caso ainda não as tenha\n",
    "# !pip install faiss-cpu sentence-transformers\n",
    "\n",
    "import faiss\n",
    "from sentence_transformers import SentenceTransformer\n",
    "import numpy as np\n",
    "\n",
    "# Lista de strings que queremos indexar\n",
    "texts = [\n",
    "    \"Eu adoro aprender sobre inteligência artificial.\",\n",
    "    \"Faiss é uma ótima ferramenta para buscas vetoriais.\",\n",
    "    \"Python é uma linguagem de programação versátil.\",\n",
    "    \"Machine learning está revolucionando várias indústrias.\",\n",
    "    \"Deep learning é uma área fascinante da IA.\"\n",
    "]\n",
    "\n",
    "# Carregar o modelo de embeddings\n",
    "# model_name = 'neuralmind/bert-base-portuguese-cased'\n",
    "model_name = 'all-MiniLM-L6-v2'\n",
    "llm_model_dir = '../data/bertimbau/'\n",
    "embedding_model = SentenceTransformer(\n",
    "    model_name, \n",
    "    cache_folder=llm_model_dir, \n",
    "    device='cpu'\n",
    ")\n",
    "# Converter as strings para embeddings\n",
    "embeddings = embedding_model.encode(texts)\n",
    "# Converter os embeddings para um array NumPy, necessário para Faiss\n",
    "embeddings = np.array(embeddings).astype(\"float32\")\n",
    "# Criar o índice Faiss\n",
    "d = embeddings.shape[1]  # Dimensão dos embeddings\n",
    "index = faiss.IndexFlatL2(d)  # Usando L2 (distância euclidiana) como métrica\n",
    "# index = faiss.IndexFlatIP(d)  # Usando inner product metric (relacionado com angulo entre embeddings)\n",
    "# Adicionar os embeddings ao índice\n",
    "index.add(embeddings)\n",
    "# Verificar quantos vetores foram adicionados\n",
    "print(\"Número de vetores no índice:\", index.ntotal)\n",
    "# Exemplo de busca\n",
    "query = \"Qual é a utilidade do deep learning?\"\n",
    "query_embedding = embedding_model.encode([query]).astype(\"float32\")\n",
    "# Fazer a busca\n",
    "k = 2  # número de resultados mais próximos\n",
    "distances, indices = index.search(query_embedding, k)\n",
    "# Mostrar os resultados\n",
    "for i in range(k):\n",
    "    print(f\"Texto mais próximo {i+1}: {texts[indices[0][i]]} (distância: {distances[0][i]})\")"
   ]
  },
  {
   "cell_type": "markdown",
   "id": "fd38554e-6cb6-44d1-b082-d2232f0af2a5",
   "metadata": {},
   "source": [
    "## QA"
   ]
  },
  {
   "cell_type": "code",
   "execution_count": 73,
   "id": "3eb6246c-bf06-4ba7-a199-9ff7e525d1f0",
   "metadata": {},
   "outputs": [
    {
     "name": "stderr",
     "output_type": "stream",
     "text": [
      "/home/ciodaro/Programs/anaconda3/envs/eng-prompt/lib/python3.10/site-packages/transformers/tokenization_utils_base.py:1617: FutureWarning: `clean_up_tokenization_spaces` was not set. It will be set to `True` by default. This behavior will be deprecated in transformers v4.45, and will be then set to `False` by default. For more details check this issue: https://github.com/huggingface/transformers/issues/31884\n",
      "  warnings.warn(\n"
     ]
    }
   ],
   "source": [
    "import faiss\n",
    "from sentence_transformers import SentenceTransformer\n",
    "import numpy as np\n",
    "\n",
    "# Filtrar dados\n",
    "episode_season = 5\n",
    "# episode_id = 92\n",
    "# character_name = 'lisa simpson'\n",
    "\n",
    "X = (data[(data.episode_season == episode_season) \n",
    "          # & (data.episode_id == episode_id) \n",
    "          # (data.character_normalized_name == character_name)\n",
    "     ].sort_values(['episode_id', 'number'])\n",
    ")\n",
    "X = X.dropna(subset='normalized_text')\n",
    "\n",
    "texts = X.line.tolist()\n",
    "\n",
    "# Carregar o modelo de embeddings\n",
    "model_name = 'all-MiniLM-L6-v2'\n",
    "llm_model_dir = '../data/bertimbau/'\n",
    "embedding_model = SentenceTransformer(\n",
    "    model_name, \n",
    "    cache_folder=llm_model_dir, \n",
    "    device='cpu'\n",
    ")\n",
    "# Converter as strings para embeddings\n",
    "embeddings = embedding_model.encode(texts)\n",
    "# # Converter os embeddings para um array NumPy, necessário para Faiss\n",
    "embeddings = np.array(embeddings).astype(\"float32\")\n"
   ]
  },
  {
   "cell_type": "code",
   "execution_count": 74,
   "id": "fdc8bc13-04f4-45f0-8cc3-228613cdf3be",
   "metadata": {},
   "outputs": [
    {
     "name": "stdout",
     "output_type": "stream",
     "text": [
      "Número de vetores no índice: 5161\n"
     ]
    }
   ],
   "source": [
    "d = embeddings.shape[1]  # Dimensão dos embeddings\n",
    "# index = faiss.IndexFlatL2(d)  # Usando L2 (distância euclidiana) como métrica\n",
    "index = faiss.IndexFlatIP(d)\n",
    "# Adicionar os embeddings ao índice\n",
    "index.add(embeddings)\n",
    "# Verificar quantos vetores foram adicionados\n",
    "print(\"Número de vetores no índice:\", index.ntotal)"
   ]
  },
  {
   "cell_type": "code",
   "execution_count": 101,
   "id": "e08f465b-25ae-4721-b13d-50b7f2669e1b",
   "metadata": {},
   "outputs": [],
   "source": [
    "import json\n",
    "import google.generativeai as genai\n",
    "from google.generativeai.types import HarmCategory, HarmBlockThreshold\n",
    "\n",
    "\n",
    "# Exemplo de busca\n",
    "query = \"In episode 92, who is the cat burglar and how it was revealed?\"\n",
    "query_embedding = embedding_model.encode([query]).astype(\"float32\")\n",
    "# Fazer a busca\n",
    "k = 20  # número de resultados mais próximos\n",
    "distances, indices = index.search(query_embedding, k)\n",
    "# Mostrar os resultados\n",
    "\n",
    "db_text = '\\n'.join([f\"- {texts[indices[0][i]]}\" for i in range(k)])\n",
    "\n",
    "# Adicionar as respostas ao prompt para pedir ao LLM que responda\n",
    "# If the information needed to respond is not in <database>, respond 'I do not know'.\n",
    "\n",
    "prompt = f\"\"\"\n",
    "Respond to the <user question> considering the information retrieved from the <database>.\n",
    "Read several lines to try to understand how to respond it. \n",
    "\n",
    "\n",
    "##\n",
    "<user question>\n",
    "{query}\n",
    "\n",
    "##\n",
    "<database>\n",
    "{db_text}\n",
    "\n",
    "##\n",
    "The response must be formatted as a JSON with the field 'response'.\n",
    "\"\"\"\n",
    "\n",
    "# Definir a chave de API do Gemini (use a chave fornecida pela sua conta)\n",
    "safety_settings={\n",
    "    HarmCategory.HARM_CATEGORY_HATE_SPEECH: HarmBlockThreshold.BLOCK_NONE,\n",
    "    HarmCategory.HARM_CATEGORY_HARASSMENT: HarmBlockThreshold.BLOCK_NONE,\n",
    "    HarmCategory.HARM_CATEGORY_SEXUALLY_EXPLICIT: HarmBlockThreshold.BLOCK_NONE,\n",
    "    HarmCategory.HARM_CATEGORY_DANGEROUS_CONTENT: HarmBlockThreshold.BLOCK_NONE,\n",
    "}\n",
    "generation_config = {\n",
    "    'temperature': 0.1,\n",
    "    # 'top_p': 0.8,\n",
    "    # 'top_k': 20,\n",
    "    'max_output_tokens': 100,\n",
    "    # 'candidate_count': 8 # nao funciona em Gemini Flash\n",
    "}\n",
    "genai.configure(api_key=os.environ[\"GEMINI_KEY\"])\n",
    "model = genai.GenerativeModel(\n",
    "    \"gemini-1.5-flash\",\n",
    "    safety_settings=safety_settings,\n",
    "    generation_config=generation_config,\n",
    ")\n",
    "candidate_count = 8\n",
    "# response = model.generate_content(prompt)\n",
    "responses = [model.generate_content(prompt) for i in range(candidate_count)]\n",
    "responses = [r.text.replace(\"```json\\n\",'').replace(\"\\n```\",'') for r in responses]\n",
    "responses = [json.loads(r)['response'] for r in responses]\n",
    "# print(response.text)"
   ]
  },
  {
   "cell_type": "code",
   "execution_count": 102,
   "id": "0518d12f-a272-4b9d-8650-86a43a7026ee",
   "metadata": {},
   "outputs": [
    {
     "data": {
      "text/plain": [
       "['In episode 92, the cat burglar is revealed to be Mr. Molloy, a resident of the Springfield Retirement Castle.  Homer discovers this after his father, Grampa Simpson, tells him that he knows who the cat burglar is.  Homer then confronts Mr. Molloy at the retirement castle, and Mr. Molloy admits to being the cat burglar.',\n",
       " \"In episode 92, the cat burglar is revealed to be Mr. Molloy, a resident of the Springfield Retirement Castle.  Homer catches him after Mr. Molloy tries to rob the Springfield Museum.  Homer's father, Grampa Simpson, had previously told Homer that he knew who the cat burglar was, but he didn't reveal it until after Homer had already caught Mr. Molloy.\",\n",
       " \"In episode 92, the cat burglar is revealed to be Mr. Molloy, a resident of the Springfield Retirement Castle.  Homer catches him after Mr. Molloy tries to rob the Springfield Museum.  Homer's father, Grampa Simpson, had previously told Homer that he knew who the cat burglar was, but he didn't reveal it until after Homer caught Mr. Molloy.\",\n",
       " \"In episode 92, the cat burglar is revealed to be Mr. Molloy, a resident of the Springfield Retirement Castle.  Homer Simpson, who was trying to catch the cat burglar, discovers this when he visits the retirement home and finds Mr. Molloy hiding in a closet.  Mr. Molloy admits to being the cat burglar and says he was trying to steal Homer's wife's pearls.\",\n",
       " \"In episode 92, the cat burglar is revealed to be Mr. Molloy, a resident of the Springfield Retirement Castle.  Homer catches him after Mr. Molloy tries to rob the Springfield Museum.  Homer's father, Grampa Simpson, had previously told Homer that he knew who the cat burglar was, but he didn't reveal his identity until the end of the episode.\",\n",
       " \"In episode 92, the cat burglar is revealed to be Mr. Molloy, a resident of the Springfield Retirement Castle.  Homer catches him after Mr. Molloy tries to rob the Springfield Museum.  Homer's father, Grampa Simpson, had previously told Homer that he knew who the cat burglar was, but he didn't reveal his identity until the end of the episode.\",\n",
       " 'In episode 92, the cat burglar is revealed to be Mr. Molloy, a resident of the Springfield Retirement Castle.  Homer discovers this after his father, Grampa Simpson, tells him that he knows who the cat burglar is.  Homer then confronts Mr. Molloy at the retirement castle, and Mr. Molloy admits to being the cat burglar.',\n",
       " 'In episode 92, the cat burglar is revealed to be Mr. Molloy, a resident of the Springfield Retirement Castle.  Homer discovers this after his father, Grampa Simpson, tells him that he knows who the cat burglar is.  Homer then confronts Mr. Molloy at the retirement castle, and Mr. Molloy admits to being the cat burglar.']"
      ]
     },
     "execution_count": 102,
     "metadata": {},
     "output_type": "execute_result"
    }
   ],
   "source": [
    "responses"
   ]
  },
  {
   "cell_type": "code",
   "execution_count": null,
   "id": "d0f8e46a-1db0-405a-af25-6d21f4cf9a92",
   "metadata": {},
   "outputs": [],
   "source": []
  },
  {
   "cell_type": "code",
   "execution_count": null,
   "id": "da7043a2-3756-42c7-989c-ae901a846366",
   "metadata": {},
   "outputs": [],
   "source": []
  }
 ],
 "metadata": {
  "kernelspec": {
   "display_name": "Python 3 (ipykernel)",
   "language": "python",
   "name": "python3"
  },
  "language_info": {
   "codemirror_mode": {
    "name": "ipython",
    "version": 3
   },
   "file_extension": ".py",
   "mimetype": "text/x-python",
   "name": "python",
   "nbconvert_exporter": "python",
   "pygments_lexer": "ipython3",
   "version": "3.10.15"
  }
 },
 "nbformat": 4,
 "nbformat_minor": 5
}
